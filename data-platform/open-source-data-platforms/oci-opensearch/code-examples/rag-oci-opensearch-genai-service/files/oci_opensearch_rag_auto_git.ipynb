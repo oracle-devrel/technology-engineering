{
 "cells": [
  {
   "cell_type": "markdown",
   "id": "c0b3ea8f-f09c-4f8f-9dba-2ca00c2a6f64",
   "metadata": {},
   "source": [
    "===================================================================================================================================="
   ]
  },
  {
   "cell_type": "markdown",
   "id": "f91691b6-01cd-419c-acfa-8f37c402ce48",
   "metadata": {},
   "source": [
    "<h1><font color=\"blue\">Retrieval Augmented Generation with OCI OpenSearch and GenAI service</font></h1>"
   ]
  },
  {
   "cell_type": "markdown",
   "id": "3efd3707-7b0c-4a24-9592-a2f065335cad",
   "metadata": {},
   "source": [
    "===================================================================================================================================="
   ]
  },
  {
   "cell_type": "markdown",
   "id": "7f92f612-8156-459e-a818-f200db58d6db",
   "metadata": {},
   "source": [
    "![Alt text](https://www.oracle.com/a/ocom/img/rc10-oci-opensearch.png)"
   ]
  },
  {
   "cell_type": "markdown",
   "id": "04f471a4-dbd1-4ec0-aa0d-cf392d840333",
   "metadata": {
    "tags": []
   },
   "source": [
    "## **Perform these steps before running this notebook**\n",
    "- Create a VCN with a private subnet. Make sure there is NAT gateway attached.\n",
    "- Add ingress rules to the security list: ports 9200 and 5601 ports on source 0.0.0.0/0, TCP\n",
    "- Create the OpenSearch cluster in the public subnet\n",
    "- Create the OCI Data Science notebook session in the private subnet\n",
    "- Add the config file (API Key) and private key to this notebook in the .oci directory\n",
    "- Create an object storage bucket"
   ]
  },
  {
   "cell_type": "code",
   "execution_count": null,
   "id": "8a311de2-a229-41c6-bc08-787dc9012e25",
   "metadata": {
    "tags": []
   },
   "outputs": [],
   "source": [
    "import oci\n",
    "import os\n",
    "import json\n",
    "from urllib.request import urlopen \n",
    "import subprocess"
   ]
  },
  {
   "cell_type": "markdown",
   "id": "cd4dfb63-82fd-4dee-8dcb-7f9d01b00fbf",
   "metadata": {},
   "source": [
    "## **Add your credentials here**"
   ]
  },
  {
   "cell_type": "markdown",
   "id": "7253cac0-8282-461f-94b1-9b18c41fff53",
   "metadata": {},
   "source": [
    "Most steps are automated after you add your credentials below. Some steps require additional steps, however, they are explained in the notebook. "
   ]
  },
  {
   "cell_type": "code",
   "execution_count": null,
   "id": "1f90652f-1fdd-4f95-a5bd-75e2dad366c2",
   "metadata": {
    "tags": []
   },
   "outputs": [],
   "source": [
    "## The openserach API endpoint, including \":9200\"\n",
    "api_endpoint = \"\"\n",
    "\n",
    "## Your user name in OpenSearch\n",
    "username = \"\"\n",
    "\n",
    "## Your password\n",
    "password = \"\"\n",
    "\n",
    "## Object storage bucket and namespace\n",
    "bucket_name = \"\"\n",
    "namespace = \"\"\n",
    "\n",
    "#The compartment you are working in\n",
    "compartment_id = \"\""
   ]
  },
  {
   "cell_type": "markdown",
   "id": "ee6bfaa0-e81b-4e20-9e51-fd8d2ef12048",
   "metadata": {},
   "source": [
    "# **1. Register and Store a Custom Embedding Model in OpenSearch**"
   ]
  },
  {
   "cell_type": "markdown",
   "id": "ef727569-dea8-49a6-a66d-55cbeb48d02d",
   "metadata": {},
   "source": [
    "## **1.1 Connect to OpenSearch Cluster and perform health check**"
   ]
  },
  {
   "cell_type": "code",
   "execution_count": null,
   "id": "a53e88e9-dc96-4e03-941f-1835851f7dcb",
   "metadata": {
    "tags": []
   },
   "outputs": [],
   "source": [
    "output = os.popen(f\"curl -XGET '{api_endpoint}/_cluster/health?pretty' -k -u {username}:{password}\").read()\n",
    "json_output = json.loads(output)\n",
    "\n",
    "print(f\"Status of the cluster is {json_output['status']}\")\n",
    "json_output"
   ]
  },
  {
   "cell_type": "markdown",
   "id": "711e41b7-c9e4-4e50-968f-40ae75909711",
   "metadata": {},
   "source": [
    "## **1.2 Change the OpenSearch Cluster settings**"
   ]
  },
  {
   "cell_type": "code",
   "execution_count": null,
   "id": "efc36538-5464-4c92-87f7-70f055f6c93c",
   "metadata": {
    "tags": []
   },
   "outputs": [],
   "source": [
    "output = subprocess.check_output(\"\"\"curl -XPUT '%s/_cluster/settings' -u %s:%s -H 'Content-Type: application/json' -d'\n",
    "{\n",
    "  \"persistent\": {\n",
    "    \"plugins\": {\n",
    "      \"ml_commons\": {\n",
    "        \"only_run_on_ml_node\": \"false\",\n",
    "        \"model_access_control_enabled\": \"true\",\n",
    "        \"native_memory_threshold\": \"99\",\n",
    "        \"rag_pipeline_feature_enabled\": \"true\",\n",
    "        \"memory_feature_enabled\": \"true\",\n",
    "        \"allow_registering_model_via_local_file\": \"true\",\n",
    "        \"allow_registering_model_via_url\": \"true\",\n",
    "        \"model_auto_redeploy.enable\": \"true\",\n",
    "        \"model_auto_redeploy.lifetime_retry_times\": 10\n",
    "      }\n",
    "    }\n",
    "  }\n",
    "}'\n",
    "\"\"\"%(api_endpoint, username, password), shell=True, text=True)\n",
    "\n",
    "json_output = json.loads(output)\n",
    "json_output"
   ]
  },
  {
   "cell_type": "markdown",
   "id": "1b5c54cb-f26e-4387-abe2-6515cb799677",
   "metadata": {},
   "source": [
    "## **1.3 Review the settings**"
   ]
  },
  {
   "cell_type": "code",
   "execution_count": null,
   "id": "32f60455-ef1a-4f81-9096-c489c2f3e367",
   "metadata": {
    "tags": []
   },
   "outputs": [],
   "source": [
    "output = os.popen(f\"curl -XGET '{api_endpoint}/_cluster/settings?include_defaults=true' -u {username}:{password}\").read()\n",
    "\n",
    "json_output = json.loads(output)\n",
    "json_output"
   ]
  },
  {
   "cell_type": "markdown",
   "id": "e225bd61-9ef6-4968-87dc-d58bb4d3dbea",
   "metadata": {},
   "source": [
    "## **1.4. Download the custom embedding model and load into Bucket**"
   ]
  },
  {
   "cell_type": "markdown",
   "id": "3a98daca-6ee5-403b-bec0-86c9d14d8464",
   "metadata": {
    "tags": []
   },
   "source": [
    "**1. The below first downloads the model from opensearch and then add the model to the Object Storage bucket**"
   ]
  },
  {
   "cell_type": "markdown",
   "id": "8d1d8b43-bece-4b0d-a76c-755be98d2b85",
   "metadata": {
    "tags": []
   },
   "source": [
    "You can find the supported models here: https://opensearch.org/docs/latest/ml-commons-plugin/pretrained-models/#supported-pretrained-models"
   ]
  },
  {
   "cell_type": "code",
   "execution_count": null,
   "id": "f89ce271-9914-4c92-a79a-75439f3a335d",
   "metadata": {
    "tags": []
   },
   "outputs": [],
   "source": [
    "!wget https://artifacts.opensearch.org/models/ml-models/huggingface/sentence-transformers/all-MiniLM-L12-v2/1.0.1/torch_script/sentence-transformers_all-MiniLM-L12-v2-1.0.1-torch_script.zip"
   ]
  },
  {
   "cell_type": "markdown",
   "id": "92c88b27-ad01-4c37-97e6-4da3bd96c64f",
   "metadata": {
    "tags": []
   },
   "source": [
    "**2. Push the model zip file to the bucket**"
   ]
  },
  {
   "cell_type": "code",
   "execution_count": null,
   "id": "156f71d3-1d7c-4fd1-a894-d25a9c479991",
   "metadata": {
    "tags": []
   },
   "outputs": [],
   "source": [
    "## when you are using a different model, change the below name to the correct .zip file\n",
    "filename = \"st_all-MiniLM-torch.zip\""
   ]
  },
  {
   "cell_type": "code",
   "execution_count": null,
   "id": "3cf08e69-17b5-47a1-972e-fc7b8e8255f3",
   "metadata": {
    "tags": []
   },
   "outputs": [],
   "source": [
    "#authentication using config file\n",
    "config = oci.config.from_file()\n",
    "\n",
    "object_storage_client = oci.object_storage.ObjectStorageClient(config)\n",
    "\n",
    "#upload .zip model to bucket\n",
    "put_object_response = object_storage_client.put_object(\n",
    "    namespace_name=namespace,\n",
    "    bucket_name=bucket_name,\n",
    "    object_name=filename,\n",
    "    put_object_body=filename)\n",
    "\n",
    "output = put_object_response.headers\n",
    "print(put_object_response.headers) "
   ]
  },
  {
   "cell_type": "markdown",
   "id": "73d128aa-1c5b-4cba-9740-e39e084cd187",
   "metadata": {},
   "source": [
    "## **1.5. Create a Model Group**"
   ]
  },
  {
   "cell_type": "code",
   "execution_count": null,
   "id": "25c0caad-9291-453d-9ace-77d7eca5fe84",
   "metadata": {
    "tags": []
   },
   "outputs": [],
   "source": [
    "output = subprocess.check_output(\"\"\"curl -XPOST '%s/_plugins/_ml/model_groups/_register' -u %s:%s -H 'Content-Type: application/json' -d'\n",
    "{\n",
    "    \"name\": \"model_group_1\",\n",
    "    \"description\": \"A public group\",\n",
    "    \"access_mode\": \"public\"\n",
    "}'\n",
    "\"\"\"%(api_endpoint, username, password), shell=True, text=True)\n",
    "\n",
    "json_output = json.loads(output)\n",
    "\n",
    "#define the model_group_id\n",
    "model_group_id = json_output['model_group_id']\n",
    "json_output"
   ]
  },
  {
   "cell_type": "code",
   "execution_count": null,
   "id": "b15d87b7-95bb-47a7-a20f-2133abb1c4c5",
   "metadata": {},
   "outputs": [],
   "source": [
    "# Example response: {'model_group_id': 'Wt8e3Y8Br9Xc3t7fqub4', 'status': 'CREATED'}"
   ]
  },
  {
   "cell_type": "markdown",
   "id": "ce4190f2-295e-42e7-b3ba-0b99c8ea673b",
   "metadata": {},
   "source": [
    "## **1.6. Register the model to the OpenSearch Cluster**"
   ]
  },
  {
   "cell_type": "markdown",
   "id": "e7d58343-44b5-4dee-9b81-9379f00b5211",
   "metadata": {},
   "source": [
    "**1. Load the associated model config file from the directory**"
   ]
  },
  {
   "cell_type": "code",
   "execution_count": null,
   "id": "c1f66d71-b619-4e63-ad99-17912fbf871f",
   "metadata": {
    "tags": []
   },
   "outputs": [],
   "source": [
    "## Define the full path here\n",
    "the_config_json = \"https://artifacts.opensearch.org/models/ml-models/huggingface/sentence-transformers/all-MiniLM-L12-v2/1.0.1/torch_script/config.json\"\n",
    "  \n",
    "#get the model config file\n",
    "response = urlopen(the_config_json) \n",
    "model_config = json.loads(response.read()) \n",
    "model_config"
   ]
  },
  {
   "cell_type": "markdown",
   "id": "9a1034fe-232c-4ee6-adfd-12016502dc2d",
   "metadata": {},
   "source": [
    "**2. Copy the above response in the below.**"
   ]
  },
  {
   "cell_type": "markdown",
   "id": "bb9c3361-92c7-44b4-8d5d-a672d5dac1fc",
   "metadata": {},
   "source": [
    "## **1.7 - Version 1: Using Object Storage Bucket**"
   ]
  },
  {
   "cell_type": "markdown",
   "id": "07ae8a51-ae98-40fb-9331-5d892e0b44c0",
   "metadata": {
    "jp-MarkdownHeadingCollapsed": true,
    "tags": []
   },
   "source": [
    "**Change in the below / do:**\n",
    "- Add your api endpoint\n",
    "- Add your username and password\n",
    "- Add the model group id\n",
    "- Run in terminal"
   ]
  },
  {
   "cell_type": "code",
   "execution_count": null,
   "id": "93814746-5140-40f9-97bb-6d98c2e27ddb",
   "metadata": {
    "tags": []
   },
   "outputs": [],
   "source": [
    "curl -XPOST '<api_endpoint>/_plugins/_ml/models/_register' -u <username>:<password> -H 'Content-Type: application/json' -d'\n",
    "{\n",
    "\"name\": \"all-MiniLM-L6-v2_test\",\n",
    "    \"version\": \"1.0.0\",\n",
    "    \"description\": \"All miniLm-L6-v2 model\",\n",
    "    \"model_format\": \"TORCH_SCRIPT\",\n",
    "    \"model_group_id\": \"<model_group_id>\",\n",
    "    \"model_content_hash_value\": \"c15f0d2e62d872be5b5bc6c84d2e0f4921541e29fefbef51d59cc10a8ae30e0f\",\n",
    "    \"model_config\": {\n",
    "        \"model_type\": \"bert\",\n",
    "        \"embedding_dimension\": 384,\n",
    "        \"framework_type\": \"sentence_transformers\",\n",
    "       \"all_config\": \"{\\\"_name_or_path\\\":\\\"nreimers/MiniLM-L6-H384-uncased\\\",\\\"architectures\\\":[\\\"BertModel\\\"],\\\"attention_probs_dropout_prob\\\":0.1,\\\"gradient_checkpointing\\\":false,\\\"hidden_act\\\":\\\"gelu\\\",\\\"hidden_dropout_prob\\\":0.1,\\\"hidden_size\\\":384,\\\"initializer_range\\\":0.02,\\\"intermediate_size\\\":1536,\\\"layer_norm_eps\\\":1e-12,\\\"max_position_embeddings\\\":512,\\\"model_type\\\":\\\"bert\\\",\\\"num_attention_heads\\\":12,\\\"num_hidden_layers\\\":6,\\\"pad_token_id\\\":0,\\\"position_embedding_type\\\":\\\"absolute\\\",\\\"transformers_version\\\":\\\"4.8.2\\\",\\\"type_vocab_size\\\":2,\\\"use_cache\\\":true,\\\"vocab_size\\\":30522}\"\n",
    "    },\n",
    "\n",
    "        \"url_connector\": {\n",
    "            \"protocol\": \"oci_sigv1\",\n",
    "            \"parameters\": {\n",
    "                \"auth_type\": \"resource_principal\"\n",
    "            },\n",
    "            \"actions\": [\n",
    "                {\n",
    "                    \"method\": \"GET\",\n",
    "                    \"action_type\": \"DOWNLOAD\",\n",
    "                    \"url\": \"https://fro8fl9kuqli.objectstorage.us-ashburn-1.oci.customer-oci.com/n/fro8fl9kuqli/b/oci_opensearch_custom_model/o/st_all-MiniLM-torch.zip\"\n",
    "                }\n",
    "            ]\n",
    "        }\n",
    "    }'"
   ]
  },
  {
   "cell_type": "code",
   "execution_count": null,
   "id": "1c1b9869-b1d0-4a53-9665-8cd7b0689699",
   "metadata": {
    "tags": []
   },
   "outputs": [],
   "source": [
    "# Example response {\"task_id\":\"Md_MzY8Br9Xc3t7fn-YC\",\"status\":\"CREATED\"}"
   ]
  },
  {
   "cell_type": "markdown",
   "id": "3e97123d-324f-40b2-967a-2fb5572c3cc3",
   "metadata": {},
   "source": [
    "## **1.7 - Version 2: Using OpenSearch directory**"
   ]
  },
  {
   "cell_type": "code",
   "execution_count": null,
   "id": "c71b27f3-2d6c-42cf-b026-47dbfe5104c1",
   "metadata": {},
   "outputs": [],
   "source": [
    "curl -XPOST '<api_endpoint>/_plugins/_ml/models/_register' -u <username>:<password> -H 'Content-Type: application/json' -d'\n",
    "{\n",
    "    \"name\": \"all-MiniLM-L6-v2_open2\",\n",
    "    \"version\": \"1.0.0\",\n",
    "    \"description\": \"test model\",\n",
    "    \"model_format\": \"TORCH_SCRIPT\",\n",
    "    \"model_group_id\": \"<model_group_id>\",\n",
    "    \"model_content_hash_value\": \"c15f0d2e62d872be5b5bc6c84d2e0f4921541e29fefbef51d59cc10a8ae30e0f\",\n",
    "    \"model_config\": {\n",
    "        \"model_type\": \"bert\",\n",
    "        \"embedding_dimension\": 384,\n",
    "        \"framework_type\": \"sentence_transformers\",\n",
    "       \"all_config\": \"{\\\"_name_or_path\\\":\\\"nreimers/MiniLM-L6-H384-uncased\\\",\\\"architectures\\\":[\\\"BertModel\\\"],\\\"attention_probs_dropout_prob\\\":0.1,\\\"gradient_checkpointing\\\":false,\\\"hidden_act\\\":\\\"gelu\\\",\\\"hidden_dropout_prob\\\":0.1,\\\"hidden_size\\\":384,\\\"initializer_range\\\":0.02,\\\"intermediate_size\\\":1536,\\\"layer_norm_eps\\\":1e-12,\\\"max_position_embeddings\\\":512,\\\"model_type\\\":\\\"bert\\\",\\\"num_attention_heads\\\":12,\\\"num_hidden_layers\\\":6,\\\"pad_token_id\\\":0,\\\"position_embedding_type\\\":\\\"absolute\\\",\\\"transformers_version\\\":\\\"4.8.2\\\",\\\"type_vocab_size\\\":2,\\\"use_cache\\\":true,\\\"vocab_size\\\":30522}\"\n",
    "    },\n",
    "    \"url\": \"https://artifacts.opensearch.org/models/ml-models/huggingface/sentence-transformers/all-MiniLM-L6-v2/1.0.1/torch_script/sentence-transformers_all-MiniLM-L6-v2-1.0.1-torch_script.zip\"\n",
    "}'"
   ]
  },
  {
   "cell_type": "code",
   "execution_count": null,
   "id": "a56aee56-1e86-4a11-885f-72269c67ebc5",
   "metadata": {
    "tags": []
   },
   "outputs": [],
   "source": [
    "# Example response: {\"task_id\":\"Lt-1zY8Br9Xc3t7f0-ZJ\",\"status\":\"CREATED\"}\n",
    "# Example response:{\"task_id\":\"Mt_NzY8Br9Xc3t7fYuZN\",\"status\":\"CREATED\"}"
   ]
  },
  {
   "cell_type": "markdown",
   "id": "b0802305-3595-465f-9475-9dac4548965b",
   "metadata": {},
   "source": [
    "## **1.8 Check status of uploading**"
   ]
  },
  {
   "cell_type": "markdown",
   "id": "a8778ce0-03f2-43e1-bb30-6ddf056f8990",
   "metadata": {
    "tags": []
   },
   "source": [
    "**Change in the below / do:**\n",
    "- Add task_id below"
   ]
  },
  {
   "cell_type": "code",
   "execution_count": null,
   "id": "d8af3dca-cfd0-4b29-b06e-1cb6ed11175c",
   "metadata": {},
   "outputs": [],
   "source": [
    "task_id = \"\""
   ]
  },
  {
   "cell_type": "code",
   "execution_count": null,
   "id": "5f687bcd-b1b0-4f00-aa73-7549e4c9588e",
   "metadata": {},
   "outputs": [],
   "source": [
    "output = os.popen(f\"curl -XGET '{api_endpoint}/_plugins/_ml/tasks/{task_id}' -u {username}:{password}\").read()\n",
    "\n",
    "json_output = json.loads(output)\n",
    "\n",
    "#get the model id from the response\n",
    "model_id = json_output['model_id']\n",
    "json_output"
   ]
  },
  {
   "cell_type": "code",
   "execution_count": 66,
   "id": "ea67771f-b4fc-4e5d-bd85-036012892390",
   "metadata": {},
   "outputs": [],
   "source": [
    "# Example response = {'model_id': 'FqTNzY8B7gfZNJU_Yr1w'}"
   ]
  },
  {
   "cell_type": "markdown",
   "id": "9d437c0e-fd78-4c03-befd-62d4f7b8df4e",
   "metadata": {},
   "source": [
    "## **1.9 Deploy the model using the model_id**"
   ]
  },
  {
   "cell_type": "code",
   "execution_count": null,
   "id": "6df03203-bbb8-42ab-af20-1d1f4c1ef15d",
   "metadata": {
    "tags": []
   },
   "outputs": [],
   "source": [
    "output = os.popen(f\"curl -XPOST '{api_endpoint}/_plugins/_ml/models/{model_id}/_deploy' -H 'Content-Type: application/json' -u {username}:{password}\").read()\n",
    "\n",
    "json_output = json.loads(output)\n",
    "json_output"
   ]
  },
  {
   "cell_type": "markdown",
   "id": "21084d66-c7e9-4d95-a830-143e5113cf76",
   "metadata": {},
   "source": [
    "## **1.10. Invoke the custom embedding model / Testing**"
   ]
  },
  {
   "cell_type": "code",
   "execution_count": null,
   "id": "bac5b865-ffdc-4ee5-845e-4f28904a8608",
   "metadata": {
    "tags": []
   },
   "outputs": [],
   "source": [
    "output = subprocess.check_output(\"\"\"curl -XPOST '%s/_plugins/_ml/_predict/text_embedding/%s' -u %s:%s -H 'Content-Type: application/json' -d'\n",
    "{\n",
    "  \"text_docs\":[\"hello world\"]\n",
    "}'\n",
    "\"\"\"%(api_endpoint, model_id, username, password), shell=True, text=True)\n",
    "\n",
    "json_output = json.loads(output)\n",
    "json_output"
   ]
  },
  {
   "cell_type": "markdown",
   "id": "9f88da46-6746-4ede-9e90-47125ca87089",
   "metadata": {
    "tags": []
   },
   "source": [
    "#\n",
    "#\n",
    "#\n",
    "# **2. Create full Retrieval Augmented Generation Pipeline**\n",
    "#"
   ]
  },
  {
   "cell_type": "markdown",
   "id": "8d08d346-e06a-46ac-b849-a6d6f0a9e436",
   "metadata": {},
   "source": [
    "## **2.1 Connector to Cohere in GenAI Service**"
   ]
  },
  {
   "cell_type": "markdown",
   "id": "00c0cb01-47ae-4fb8-8908-9bc3aaa82186",
   "metadata": {},
   "source": [
    "**Change in the below / do:**\n",
    "- Change the compartment_ocid below\n",
    "- Change the username\n",
    "- Change the password\n",
    "- Change the API\n",
    "- Run in terminal. Make note of the connector_id"
   ]
  },
  {
   "cell_type": "code",
   "execution_count": null,
   "id": "d1fe7c7a-165f-4e01-9f55-64cd332df45e",
   "metadata": {},
   "outputs": [],
   "source": [
    "curl -XPOST '<api_endpoint>/_plugins/_ml/connectors/_create' -u <username>:<password> -H 'Content-Type: application/json' -d'\n",
    "{\n",
    "     \"name\": \"llm_cohere_command\",\n",
    "     \"description\": \"llm_cohere_command\",\n",
    "     \"version\": 2,\n",
    "     \"protocol\": \"oci_sigv1\",\n",
    "     \"parameters\": {\n",
    "         \"endpoint\": \"inference.generativeai.us-chicago-1.oci.oraclecloud.com\",\n",
    "         \"auth_type\": \"resource_principal\"\n",
    "     },\n",
    "     \"credential\": {\n",
    "     },\n",
    "     \"actions\": [\n",
    "         {\n",
    "             \"action_type\": \"predict\",\n",
    "             \"method\": \"POST\",\n",
    "             \"url\": \"https://${parameters.endpoint}/20231130/actions/generateText\",\n",
    "             \"request_body\": \"{\\\"compartmentId\\\":\\\"<compartment_ocid>\\\",\\\"servingMode\\\":{\\\"modelId\\\":\\\"cohere.command\\\",\\\"servingType\\\":\\\"ON_DEMAND\\\"},\\\"inferenceRequest\\\":{\\\"prompt\\\":\\\"${parameters.prompt}\\\",\\\"maxTokens\\\":600,\\\"temperature\\\":1,\\\"frequencyPenalty\\\":0,\\\"presencePenalty\\\":0,\\\"topP\\\":0.75,\\\"topK\\\":0,\\\"returnLikelihoods\\\":\\\"GENERATION\\\",\\\"isStream\\\":false ,\\\"stopSequences\\\":[],\\\"runtimeType\\\":\\\"COHERE\\\"}}\"\n",
    "         }\n",
    "     ]\n",
    " }'"
   ]
  },
  {
   "cell_type": "code",
   "execution_count": null,
   "id": "c76d6cdc-199a-4872-8010-c1cc1a7858de",
   "metadata": {},
   "outputs": [],
   "source": [
    "# Example response = {\"connector_id\":\"N99Ozo8Br9Xc3t7fJeYF\"}\n",
    "# Example response ={\"connector_id\":\"X9833Y8Br9Xc3t7fu-aO\"}"
   ]
  },
  {
   "cell_type": "markdown",
   "id": "1fe853a8-f9e3-4936-ad16-8da5042ad2af",
   "metadata": {},
   "source": [
    "## **2.2 Register the Cohere model**"
   ]
  },
  {
   "cell_type": "code",
   "execution_count": null,
   "id": "a3cae7cc-b276-4fc9-9e92-f391f9220955",
   "metadata": {
    "tags": []
   },
   "outputs": [],
   "source": [
    "connector_id = \"\""
   ]
  },
  {
   "cell_type": "code",
   "execution_count": null,
   "id": "6df2d654-a9b7-46f8-84d1-c20a7d673401",
   "metadata": {
    "tags": []
   },
   "outputs": [],
   "source": [
    "output = subprocess.check_output(\"\"\"curl -XPOST '%s/_plugins/_ml/models/_register' -u %s:%s -H 'Content-Type: application/json' -d'\n",
    "{\n",
    "   \"name\": \"oci-genai-conversation\",\n",
    "   \"function_name\": \"remote\",\n",
    "   \"model_group_id\": \"%s\",\n",
    "   \"description\": \"oci-gen-ai-cohere\",\n",
    "   \"connector_id\": \"%s\"\n",
    " }'\n",
    "\"\"\"%(api_endpoint, username, password, model_group_id, connector_id), shell=True, text=True)\n",
    "\n",
    "json_output = json.loads(output)\n",
    "\n",
    "#get the model_id for the cohere model\n",
    "model_id_cohere = json_output['model_id']\n",
    "\n",
    "json_output"
   ]
  },
  {
   "cell_type": "code",
   "execution_count": null,
   "id": "0cdb3fe3-c39b-4ded-bc75-36b60e97411b",
   "metadata": {},
   "outputs": [],
   "source": [
    "# Example response = {\"task_id\":\"ON9Rzo8Br9Xc3t7fnuZo\",\"status\":\"CREATED\",\"model_id\":\"Od9Rzo8Br9Xc3t7fnuaS\"}\n",
    "# Example response = {'task_id': 'YN853Y8Br9Xc3t7fP-ZE', 'status': 'CREATED', 'model_id': 'Yd853Y8Br9Xc3t7fP-Zf'}"
   ]
  },
  {
   "cell_type": "markdown",
   "id": "6d37e459-6e49-4031-ac53-08946e7bb798",
   "metadata": {},
   "source": [
    "## **2.3 Deploy the Cohere model as API connection**"
   ]
  },
  {
   "cell_type": "code",
   "execution_count": null,
   "id": "7df05490-593a-4210-9e90-4f3996fb75e6",
   "metadata": {
    "tags": []
   },
   "outputs": [],
   "source": [
    "output = os.popen(f\"curl -XPOST '{api_endpoint}/_plugins/_ml/models/{model_id_cohere}/_deploy' -H 'Content-Type: application/json' -u {username}:{password}\").read()\n",
    "\n",
    "json_output = json.loads(output)\n",
    "json_output"
   ]
  },
  {
   "cell_type": "code",
   "execution_count": null,
   "id": "1aaf1702-e566-4f3a-8f64-1838388f1ed9",
   "metadata": {
    "tags": []
   },
   "outputs": [],
   "source": [
    "# {'task_id': 'Ot9Wzo8Br9Xc3t7f_eYn', 'task_type': 'DEPLOY_MODEL', 'status': 'COMPLETED'}\n",
    "# {'task_id': 'Yt863Y8Br9Xc3t7fL-Yj', 'task_type': 'DEPLOY_MODEL', 'status': 'COMPLETED'}"
   ]
  },
  {
   "cell_type": "markdown",
   "id": "648d2532-1ced-4ae3-bb92-10ce12ec2300",
   "metadata": {},
   "source": [
    "## **2.4 Create the RAG Pipeline**"
   ]
  },
  {
   "cell_type": "markdown",
   "id": "ef4db823-3a6e-4482-b8e4-d137b45f8310",
   "metadata": {},
   "source": [
    "The below creates a RAG pipeline, with only the Cohere model. In later steps, will add:\n",
    "- Convert input text to embeddings using the custom embedding model\n",
    "- Perform kNN to fetch most similar texts\n",
    "- Add conversational memory\n",
    "- Invoke GenAI/Cohere"
   ]
  },
  {
   "cell_type": "code",
   "execution_count": null,
   "id": "cf8c9711-6296-464d-8521-f486746f64ee",
   "metadata": {
    "tags": []
   },
   "outputs": [],
   "source": [
    "output = subprocess.check_output(\"\"\"curl -XPUT '%s/_search/pipeline/demo_rag_pipeline' -u %s:%s -H 'Content-Type: application/json' -d'\n",
    "{\n",
    "  \"response_processors\": [\n",
    "    {\n",
    "      \"retrieval_augmented_generation\": {\n",
    "        \"tag\": \"genai_conversational_search_demo\",\n",
    "        \"description\": \"Demo pipeline for conversational search Using Genai Connector\",\n",
    "        \"model_id\": \"%s\",\n",
    "        \"context_field_list\": [\"text\"],\n",
    "        \"system_prompt\":\"hepfull assistant\",\n",
    "        \"user_instructions\":\"generate concise answer\"\n",
    "      }\n",
    "    }\n",
    "  ]\n",
    "}'\n",
    "\"\"\"%(api_endpoint, username, password, model_id_cohere), shell=True, text=True)\n",
    "\n",
    "json_output = json.loads(output)\n",
    "json_output"
   ]
  },
  {
   "cell_type": "markdown",
   "id": "1d6f69b2-d810-4825-9961-64874ed52801",
   "metadata": {},
   "source": [
    "## **2.5. Create Search Index with kNN plugin - using model_id (Custom Embedding model)**"
   ]
  },
  {
   "cell_type": "code",
   "execution_count": null,
   "id": "9a56ce80-a965-4f78-8c5d-336fe249ba9a",
   "metadata": {
    "tags": []
   },
   "outputs": [],
   "source": [
    "output = subprocess.check_output(\"\"\"curl -XPUT '%s/_ingest/pipeline/minil12-test-pipeline' -u %s:%s -H 'Content-Type: application/json' -d'\n",
    "{\n",
    "  \"description\": \"pipeline for RAG demo index\",\n",
    "  \"processors\" : [\n",
    "    {\n",
    "      \"text_embedding\": {\n",
    "        \"model_id\": \"%s\",\n",
    "        \"field_map\": {\n",
    "           \"text\": \"passage_embedding\"\n",
    "        }\n",
    "      }\n",
    "    }\n",
    "  ]\n",
    "}'\n",
    "\"\"\"%(api_endpoint, username, password, model_id), shell=True, text=True)\n",
    "\n",
    "json_output = json.loads(output)\n",
    "json_output"
   ]
  },
  {
   "cell_type": "markdown",
   "id": "bd2bbba4-1ef0-4241-a9f0-c57af324cd33",
   "metadata": {},
   "source": [
    "## **2.6. Create the index (table)**"
   ]
  },
  {
   "cell_type": "code",
   "execution_count": null,
   "id": "c23b4d15-3468-46fe-a644-5e0eec133798",
   "metadata": {
    "tags": []
   },
   "outputs": [],
   "source": [
    "output = subprocess.check_output(\"\"\"curl -XPUT '%s/conversation-demo-index-knn-new' -u %s:%s -H 'Content-Type: application/json' -d'\n",
    "{\n",
    "    \"settings\": {\n",
    "        \"index.knn\": true,\n",
    "        \"default_pipeline\": \"minil12-test-pipeline\"\n",
    "    },\n",
    "    \"mappings\": {\n",
    "        \"properties\": {\n",
    "            \"passage_embedding\": {\n",
    "                \"type\": \"knn_vector\",\n",
    "                \"dimension\": 384,\n",
    "                \"method\": {\n",
    "                    \"name\":\"hnsw\",\n",
    "                    \"engine\":\"lucene\",\n",
    "                    \"space_type\": \"l2\",\n",
    "                    \"parameters\":{\n",
    "                        \"m\":512,\n",
    "                        \"ef_construction\": 245\n",
    "                    }\n",
    "                }\n",
    "            },\n",
    "            \"text\": {\n",
    "                \"type\": \"text\"\n",
    "            }\n",
    "        }\n",
    "    }\n",
    "}'\n",
    "\"\"\"%(api_endpoint, username, password), shell=True, text=True)\n",
    "\n",
    "json_output = json.loads(output)\n",
    "json_output"
   ]
  },
  {
   "cell_type": "code",
   "execution_count": null,
   "id": "4bbd1e34-8b63-4bd4-9a52-6d41725460c6",
   "metadata": {
    "tags": []
   },
   "outputs": [],
   "source": [
    "# {\"acknowledged\":true,\"shards_acknowledged\":true,\"index\":\"conversation-demo-index-knn-new\"}\n",
    "# {'acknowledged': True, 'shards_acknowledged': True, 'index': 'conversation-demo-index-knn-new2'}"
   ]
  },
  {
   "cell_type": "markdown",
   "id": "9af6b503-2d11-4f1d-9f2b-76f70a361f77",
   "metadata": {},
   "source": [
    "## **2.7. Add data to the index/table**"
   ]
  },
  {
   "cell_type": "code",
   "execution_count": null,
   "id": "19eec834-4016-4f0b-956b-ab1435230e6d",
   "metadata": {
    "tags": []
   },
   "outputs": [],
   "source": [
    "output = subprocess.check_output(\"\"\"curl -XPUT '%s/conversation-demo-index-knn-new/_doc/1' -u %s:%s -H 'Content-Type: application/json' -d'\n",
    "{\n",
    "    \"text\": \"The emergence of resistance of bacteria to antibiotics is a common phenomenon. Emergence of resistance often reflects evolutionary processes that take place during antibiotic therapy. The antibiotic treatment may select for bacterial strains with physiologically or genetically enhanced capacity to survive high doses of antibiotics. Under certain conditions, it may result in preferential growth of resistant bacteria, while growth of susceptible bacteria is inhibited by the drug. For example, antibacterial selection for strains having previously acquired antibacterial-resistance genes was demonstrated in 1943 by the Luria–Delbrück experiment. Antibiotics such as penicillin and erythromycin, which used to have a high efficacy against many bacterial species and strains, have become less effective, due to the increased resistance of many bacterial strains.\"\n",
    "}'\n",
    "\"\"\"%(api_endpoint, username, password), shell=True, text=True)\n",
    "json_output = json.loads(output)\n",
    "print(json_output)\n",
    "#######################################################\n",
    "\n",
    "output = subprocess.check_output(\"\"\"curl -XPUT '%s/conversation-demo-index-knn-new/_doc/2' -u %s:%s -H 'Content-Type: application/json' -d'\n",
    "{\n",
    "  \"text\": \"The successful outcome of antimicrobial therapy with antibacterial compounds depends on several factors. These include host defense mechanisms, the location of infection, and the pharmacokinetic and pharmacodynamic properties of the antibacterial. A bactericidal activity of antibacterials may depend on the bacterial growth phase, and it often requires ongoing metabolic activity and division of bacterial cells. These findings are based on laboratory studies, and in clinical settings have also been shown to eliminate bacterial infection. Since the activity of antibacterials depends frequently on its concentration, in vitro characterization of antibacterial activity commonly includes the determination of the minimum inhibitory concentration and minimum bactericidal concentration of an antibacterial. To predict clinical outcome, the antimicrobial activity of an antibacterial is usually combined with its pharmacokinetic profile, and several pharmacological parameters are used as markers of drug efficacy.\"\n",
    "}'\n",
    "\"\"\"%(api_endpoint, username, password), shell=True, text=True)\n",
    "json_output = json.loads(output)\n",
    "print(json_output)\n",
    "\n",
    "#######################################################\n",
    "\n",
    "output = subprocess.check_output(\"\"\"curl -XPUT '%s/conversation-demo-index-knn-new/_doc/3' -u %s:%s -H 'Content-Type: application/json' -d'\n",
    "{\n",
    "  \"text\": \"Antibacterial antibiotics are commonly classified based on their mechanism of action, chemical structure, or spectrum of activity. Most target bacterial functions or growth processes. Those that target the bacterial cell wall (penicillins and cephalosporins) or the cell membrane (polymyxins), or interfere with essential bacterial enzymes (rifamycins, lipiarmycins, quinolones, and sulfonamides) have bactericidal activities. Those that target protein synthesis (macrolides, lincosamides and tetracyclines) are usually bacteriostatic (with the exception of bactericidal aminoglycosides). Further categorization is based on their target specificity. Narrow-spectrum antibacterial antibiotics target specific types of bacteria, such as Gram-negative or Gram-positive bacteria, whereas broad-spectrum antibiotics affect a wide range of bacteria. Following a 40-year hiatus in discovering new classes of antibacterial compounds, four new classes of antibacterial antibiotics have been brought into clinical use in the late 2000s and early 2010s: cyclic lipopeptides (such as daptomycin), glycylcyclines (such as tigecycline), oxazolidinones (such as linezolid), and lipiarmycins (such as fidaxomicin)\"\n",
    "}'\n",
    "\"\"\"%(api_endpoint, username, password), shell=True, text=True)\n",
    "json_output = json.loads(output)\n",
    "print(json_output)\n",
    "#######################################################\n",
    "\n",
    "output = subprocess.check_output(\"\"\"curl -XPUT '%s/conversation-demo-index-knn-new/_doc/4' -u %s:%s -H 'Content-Type: application/json' -d'\n",
    "{\n",
    "  \"text\": \"The Desert Land Act of 1877 was passed to allow settlement of arid lands in the west and allotted 640 acres (2.6 km2) to settlers for a fee of $.25 per acre and a promise to irrigate the land. After three years, a fee of one dollar per acre would be paid and the land would be owned by the settler. This act brought mostly cattle and sheep ranchers into Montana, many of whom grazed their herds on the Montana prairie for three years, did little to irrigate the land and then abandoned it without paying the final fees. Some farmers came with the arrival of the Great Northern and Northern Pacific Railroads throughout the 1880s and 1890s, though in relatively small numbers\"\n",
    "}' \n",
    "\"\"\"%(api_endpoint, username, password), shell=True, text=True)\n",
    "json_output = json.loads(output)\n",
    "print(json_output)\n",
    "#######################################################\n",
    "\n",
    "output = subprocess.check_output(\"\"\"curl -XPUT '%s/conversation-demo-index-knn-new/_doc/5' -u %s:%s -H 'Content-Type: application/json' -d'\n",
    "{\n",
    "  \"text\": \"In June 1917, the U.S. Congress passed the Espionage Act of 1917 which was later extended by the Sedition Act of 1918, enacted in May 1918. In February 1918, the Montana legislature had passed the Montana Sedition Act, which was a model for the federal version. In combination, these laws criminalized criticism of the U.S. government, military, or symbols through speech or other means. The Montana Act led to the arrest of over 200 individuals and the conviction of 78, mostly of German or Austrian descent. Over 40 spent time in prison. In May 2006, then-Governor Brian Schweitzer posthumously issued full pardons for all those convicted of violating the Montana Sedition Act.\"\n",
    "}'\n",
    "\"\"\"%(api_endpoint, username, password), shell=True, text=True)\n",
    "json_output = json.loads(output)\n",
    "print(json_output)"
   ]
  },
  {
   "cell_type": "markdown",
   "id": "71d5cafc-302d-4356-802d-3c1dafa849fc",
   "metadata": {},
   "source": [
    "## **2.8. Check an index - Should include the generated embedding**"
   ]
  },
  {
   "cell_type": "code",
   "execution_count": null,
   "id": "77e4f025-67c0-44de-8152-4d8b30c71e6b",
   "metadata": {
    "tags": []
   },
   "outputs": [],
   "source": [
    "output = os.popen(f\"curl -XGET '{api_endpoint}/conversation-demo-index-knn-new/_doc/2' -H 'Content-Type: application/json' -u {username}:{password}\").read()\n",
    "\n",
    "json_output = json.loads(output)\n",
    "json_output"
   ]
  },
  {
   "cell_type": "markdown",
   "id": "9162fbaf-8fbd-411c-8e4e-22bf14d112a9",
   "metadata": {},
   "source": [
    "## **2.9. Create a memory id - to store conversational history when interacting in a chat-like function**"
   ]
  },
  {
   "cell_type": "code",
   "execution_count": null,
   "id": "c456b35d-2443-4c24-b765-30684a4ea11e",
   "metadata": {
    "tags": []
   },
   "outputs": [],
   "source": [
    "output = subprocess.check_output(\"\"\"curl -XPOST '%s/_plugins/_ml/memory/conversation' -u %s:%s -H 'Content-Type: application/json' -d'\n",
    "{\n",
    "  \"name\": \"rag-conversation\"\n",
    "}'\n",
    "\"\"\"%(api_endpoint, username, password), shell=True, text=True)\n",
    "\n",
    "json_output = json.loads(output)\n",
    "\n",
    "#get the conversation id\n",
    "conversation_id = json_output['conversation_id']\n",
    "\n",
    "print(json_output)"
   ]
  },
  {
   "cell_type": "code",
   "execution_count": null,
   "id": "f8040871-76ad-491d-abe2-6d4a11d65452",
   "metadata": {},
   "outputs": [],
   "source": [
    "#{\"conversation_id\":\"O9-Mzo8Br9Xc3t7fs-Zn\"}\n",
    "#{'conversation_id': 'Y99I3Y8Br9Xc3t7fmOZH'}"
   ]
  },
  {
   "cell_type": "markdown",
   "id": "4c509981-d6f8-4f2f-b531-ec9835d0672f",
   "metadata": {
    "tags": []
   },
   "source": [
    "## **2.10. Test the full RAG Pipeline**"
   ]
  },
  {
   "cell_type": "markdown",
   "id": "10ca01bd-263d-4935-a61a-1a6149764ca8",
   "metadata": {
    "tags": []
   },
   "source": [
    "#### **Add your question here. The question should relate to the texts stored in the index**\n",
    "\n",
    "Example questions:\n",
    "- Explain the Espionage Act of 1917 \n",
    "- What are Antibacterial antibiotics?"
   ]
  },
  {
   "cell_type": "code",
   "execution_count": null,
   "id": "5a9d6edc-bf01-41f3-97fd-51a2df641b76",
   "metadata": {
    "tags": []
   },
   "outputs": [],
   "source": [
    "question = \"What are Antibacterial antibiotics?\""
   ]
  },
  {
   "cell_type": "code",
   "execution_count": null,
   "id": "c357b20e-25f6-40e5-9253-378df3bdb0f0",
   "metadata": {
    "tags": []
   },
   "outputs": [],
   "source": [
    "output = subprocess.check_output(\"\"\"curl -XGET '%s/conversation-demo-index-knn-new/_search?search_pipeline=demo_rag_pipeline' -u %s:%s -H 'Content-Type: application/json' -d'\n",
    "{\n",
    "  \"query\": {\n",
    "    \"bool\" : {\n",
    "      \"should\" : [\n",
    "        {\n",
    "          \"script_score\": {\n",
    "            \"query\": {\n",
    "              \"neural\": {\n",
    "                \"passage_embedding\": {\n",
    "                  \"query_text\": \"%s\",\n",
    "                  \"model_id\": \"%s\",\n",
    "                  \"k\": 3\n",
    "                }\n",
    "              }\n",
    "            },\n",
    "            \"script\": {\n",
    "              \"source\": \"_score * 1.5\"\n",
    "            }\n",
    "          }\n",
    "        }\n",
    "      ]\n",
    "    }\n",
    "  },\n",
    "    \"ext\": {\n",
    "        \"generative_qa_parameters\": {\n",
    "            \"llm_model\": \"oci_genai/cohere.command\",\n",
    "            \"llm_question\": \"%s answer only in two sentences using provided context.\",\n",
    "            \"conversation_id\": \"%s\",\n",
    "            \"context_size\": 2,\n",
    "            \"interaction_size\": 1,\n",
    "            \"timeout\": 15\n",
    "        }\n",
    "    }\n",
    "}'\n",
    "\"\"\"%(api_endpoint, username, password, question, model_id, question, conversation_id), shell=True, text=True)\n",
    "\n",
    "json_output = json.loads(output)\n",
    "print(json_output)"
   ]
  },
  {
   "cell_type": "markdown",
   "id": "34a9b0de-1d7f-4566-b0c6-24bf98689c60",
   "metadata": {},
   "source": [
    "#\n",
    "#\n"
   ]
  },
  {
   "cell_type": "markdown",
   "id": "7d96eaf8-10c5-4014-8b34-489379dbeba0",
   "metadata": {},
   "source": [
    "#\n",
    "#\n",
    "# **3. Example Chatbot interface**"
   ]
  },
  {
   "cell_type": "markdown",
   "id": "7a0c2cca-7144-42b6-aa34-fc0022b4b2c1",
   "metadata": {},
   "source": [
    "For your reference, the texts stored in the table/index:\n",
    "- \"The emergence of resistance of bacteria to antibiotics is a common phenomenon. Emergence of resistance often reflects evolutionary processes that take place during antibiotic therapy. The antibiotic treatment may select for bacterial strains with physiologically or genetically enhanced capacity to survive high doses of antibiotics. Under certain conditions, it may result in preferential growth of resistant bacteria, while growth of susceptible bacteria is inhibited by the drug. For example, antibacterial selection for strains having previously acquired antibacterial-resistance genes was demonstrated in 1943 by the Luria–Delbrück experiment. Antibiotics such as penicillin and erythromycin, which used to have a high efficacy against many bacterial species and strains, have become less effective, due to the increased resistance of many bacterial strains.\"\n",
    "- \"The successful outcome of antimicrobial therapy with antibacterial compounds depends on several factors. These include host defense mechanisms, the location of infection, and the pharmacokinetic and pharmacodynamic properties of the antibacterial. A bactericidal activity of antibacterials may depend on the bacterial growth phase, and it often requires ongoing metabolic activity and division of bacterial cells. These findings are based on laboratory studies, and in clinical settings have also been shown to eliminate bacterial infection. Since the activity of antibacterials depends frequently on its concentration, in vitro characterization of antibacterial activity commonly includes the determination of the minimum inhibitory concentration and minimum bactericidal concentration of an antibacterial. To predict clinical outcome, the antimicrobial activity of an antibacterial is usually combined with its pharmacokinetic profile, and several pharmacological parameters are used as markers of drug efficacy.\"\n",
    "- \"Antibacterial antibiotics are commonly classified based on their mechanism of action, chemical structure, or spectrum of activity. Most target bacterial functions or growth processes. Those that target the bacterial cell wall (penicillins and cephalosporins) or the cell membrane (polymyxins), or interfere with essential bacterial enzymes (rifamycins, lipiarmycins, quinolones, and sulfonamides) have bactericidal activities. Those that target protein synthesis (macrolides, lincosamides and tetracyclines) are usually bacteriostatic (with the exception of bactericidal aminoglycosides). Further categorization is based on their target specificity. Narrow-spectrum antibacterial antibiotics target specific types of bacteria, such as Gram-negative or Gram-positive bacteria, whereas broad-spectrum antibiotics affect a wide range of bacteria. Following a 40-year hiatus in discovering new classes of antibacterial compounds, four new classes of antibacterial antibiotics have been brought into clinical use in the late 2000s and early 2010s: cyclic lipopeptides (such as daptomycin), glycylcyclines (such as tigecycline), oxazolidinones (such as linezolid), and lipiarmycins (such as fidaxomicin)\"\n",
    "- \"The Desert Land Act of 1877 was passed to allow settlement of arid lands in the west and allotted 640 acres (2.6 km2) to settlers for a fee of $.25 per acre and a promise to irrigate the land. After three years, a fee of one dollar per acre would be paid and the land would be owned by the settler. This act brought mostly cattle and sheep ranchers into Montana, many of whom grazed their herds on the Montana prairie for three years, did little to irrigate the land and then abandoned it without paying the final fees. Some farmers came with the arrival of the Great Northern and Northern Pacific Railroads throughout the 1880s and 1890s, though in relatively small numbers\"\n",
    "- \"In June 1917, the U.S. Congress passed the Espionage Act of 1917 which was later extended by the Sedition Act of 1918, enacted in May 1918. In February 1918, the Montana legislature had passed the Montana Sedition Act, which was a model for the federal version. In combination, these laws criminalized criticism of the U.S. government, military, or symbols through speech or other means. The Montana Act led to the arrest of over 200 individuals and the conviction of 78, mostly of German or Austrian descent. Over 40 spent time in prison. In May 2006, then-Governor Brian Schweitzer posthumously issued full pardons for all those convicted of violating the Montana Sedition Act.\""
   ]
  },
  {
   "cell_type": "markdown",
   "id": "a557356a-0a02-457d-b778-3f57cfa56ea0",
   "metadata": {},
   "source": [
    "**Example questions:**\n",
    "- What did the desert land acto do exactly?\n",
    "- What are arid lands?\n",
    "- Explain the Espionage Act of 1917 \n",
    "- What are Antibacterial antibiotics?"
   ]
  },
  {
   "cell_type": "markdown",
   "id": "2568b5be-1c1d-4342-af57-32d2e1d4236b",
   "metadata": {},
   "source": [
    "## **3.1 Define small function**"
   ]
  },
  {
   "cell_type": "code",
   "execution_count": null,
   "id": "1fccf7eb-0734-4374-976e-2b3d3ab4ad72",
   "metadata": {
    "tags": []
   },
   "outputs": [],
   "source": [
    "def rag_chain(question, history):\n",
    "    \n",
    "    print(f\"The question = {question}\")\n",
    "    \n",
    "    output = subprocess.check_output(\"\"\"curl -XGET '%s/conversation-demo-index-knn-new/_search?search_pipeline=demo_rag_pipeline' -u %s:%s -H 'Content-Type: application/json' -d'\n",
    "    {\n",
    "      \"query\": {\n",
    "        \"bool\" : {\n",
    "          \"should\" : [\n",
    "            {\n",
    "              \"script_score\": {\n",
    "                \"query\": {\n",
    "                  \"neural\": {\n",
    "                    \"passage_embedding\": {\n",
    "                      \"query_text\": \"%s\",\n",
    "                      \"model_id\": \"%s\",\n",
    "                      \"k\": 3\n",
    "                    }\n",
    "                  }\n",
    "                },\n",
    "                \"script\": {\n",
    "                  \"source\": \"_score * 1.5\"\n",
    "                }\n",
    "              }\n",
    "            }\n",
    "          ]\n",
    "        }\n",
    "      },\n",
    "        \"ext\": {\n",
    "            \"generative_qa_parameters\": {\n",
    "                \"llm_model\": \"oci_genai/cohere.command\",\n",
    "                \"llm_question\": \"%s. answer only in two sentences using provided context.\",\n",
    "                \"conversation_id\": \"%s\",\n",
    "                \"context_size\": 2,\n",
    "                \"interaction_size\": 1,\n",
    "                \"timeout\": 15\n",
    "            }\n",
    "        }\n",
    "    }'\n",
    "    \"\"\"%(api_endpoint, username, password, question, model_id, question, conversation_id), shell=True, text=True)\n",
    "    \n",
    "    json_output = json.loads(output)\n",
    "\n",
    "    answer = json_output['ext']['retrieval_augmented_generation']['answer']\n",
    "    print(f\"The answer = {answer}\")\n",
    "    \n",
    "    return answer"
   ]
  },
  {
   "cell_type": "code",
   "execution_count": null,
   "id": "d581151d-f16f-42d5-a438-0a4194291647",
   "metadata": {
    "tags": []
   },
   "outputs": [],
   "source": [
    "#answer = rag_chain(\"What are Antibacterial antibiotics?\", \"nothing\")"
   ]
  },
  {
   "cell_type": "markdown",
   "id": "d21df3a1-bb16-43ba-9b91-9fcb8c715a1b",
   "metadata": {},
   "source": [
    "## **3.2 Install and run Gradio**"
   ]
  },
  {
   "cell_type": "code",
   "execution_count": null,
   "id": "59bc4895-a631-40c7-9069-f026ce88769c",
   "metadata": {
    "tags": []
   },
   "outputs": [],
   "source": [
    "!pip install --upgrade gradio"
   ]
  },
  {
   "cell_type": "code",
   "execution_count": null,
   "id": "c699229c-e382-471b-a64e-6793613c09e9",
   "metadata": {
    "tags": []
   },
   "outputs": [],
   "source": [
    "import gradio as gr\n",
    "\n",
    "gr.ChatInterface(\n",
    "    rag_chain,\n",
    "    chatbot=gr.Chatbot(height=500),\n",
    "    textbox=gr.Textbox(placeholder=\"Ask me a question\", container=False, scale=7),\n",
    "    title=\"OCI OpenSearch - GenAI\",\n",
    "    theme=\"soft\",\n",
    "    examples=[\"What did the desert land acto do exactly?\", \"What are Antibacterial antibiotics?\", \"Explain the Espionage Act of 1917\"],\n",
    "    cache_examples=False,\n",
    "    retry_btn=None,\n",
    "    undo_btn=\"Delete Previous\",\n",
    "    clear_btn=\"Clear\",\n",
    ").launch(share=True, debug=True)"
   ]
  },
  {
   "cell_type": "code",
   "execution_count": null,
   "id": "b1c85c40-b485-45ef-b72c-8a8f0312850b",
   "metadata": {},
   "outputs": [],
   "source": []
  },
  {
   "cell_type": "code",
   "execution_count": null,
   "id": "fbcc85d4-5758-49bb-b775-218ce4d8a323",
   "metadata": {},
   "outputs": [],
   "source": []
  }
 ],
 "metadata": {
  "kernelspec": {
   "display_name": "Python [conda env:pytorch21_p39_gpu_v1]",
   "language": "python",
   "name": "conda-env-pytorch21_p39_gpu_v1-py"
  },
  "language_info": {
   "codemirror_mode": {
    "name": "ipython",
    "version": 3
   },
   "file_extension": ".py",
   "mimetype": "text/x-python",
   "name": "python",
   "nbconvert_exporter": "python",
   "pygments_lexer": "ipython3",
   "version": "3.9.16"
  }
 },
 "nbformat": 4,
 "nbformat_minor": 5
}
