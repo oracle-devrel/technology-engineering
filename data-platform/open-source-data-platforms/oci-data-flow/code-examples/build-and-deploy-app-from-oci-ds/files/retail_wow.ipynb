{
 "cells": [
  {
   "cell_type": "markdown",
   "id": "a9e2e347-7d28-404a-9cf9-4c9996ed3466",
   "metadata": {},
   "source": [
    "# **OCI Data Science & OCI Data Flow**"
   ]
  },
  {
   "cell_type": "markdown",
   "id": "e114eb77-b0a5-4f6d-a3ce-c1b1dc31e1f8",
   "metadata": {},
   "source": [
    "## Use the notebook to:\n",
    "- Create a Spark session in OCI Data Flow and work interactively OCI Data Flow\n",
    "- Test the .py script in the interactive session\n",
    "- Create a new OCI Data Flow application and execute a new OCI Data Flow run with the .py script"
   ]
  },
  {
   "cell_type": "markdown",
   "id": "54393942-4efd-452b-b68f-3a0914ada4ec",
   "metadata": {},
   "source": [
    "-----"
   ]
  },
  {
   "cell_type": "code",
   "execution_count": null,
   "id": "493b1a06-94fc-4cb6-925f-f9c8a40fd7ca",
   "metadata": {},
   "outputs": [],
   "source": [
    "## Install Pyspark conda env"
   ]
  },
  {
   "cell_type": "code",
   "execution_count": 1,
   "id": "14ae732b-62d6-437e-8722-2c49e5650f62",
   "metadata": {
    "tags": []
   },
   "outputs": [],
   "source": [
    "import ads\n",
    "import os\n",
    "import json\n",
    "import oci\n",
    "\n",
    "#get variables/set\n",
    "compartment_id = os.environ.get(\"NB_SESSION_COMPARTMENT_OCID\")\n",
    "logs_bucket_uri = \"oci://West_BP@frqap2zhtzbe/data_flow_logs\"\n",
    "\n",
    "## set auth to notebook\n",
    "ads.set_auth(\"resource_principal\")"
   ]
  },
  {
   "cell_type": "code",
   "execution_count": 2,
   "id": "39705603-086a-4aeb-9154-1cb918a56e64",
   "metadata": {
    "tags": []
   },
   "outputs": [],
   "source": [
    "%load_ext dataflow.magics"
   ]
  },
  {
   "cell_type": "markdown",
   "id": "32e16936-f81b-4870-ab59-a82479f5a49b",
   "metadata": {
    "tags": []
   },
   "source": [
    "///////////////////////////////////////////////////////////////////////////////////////////////////////////////////////////////////////////////////////////////////////////////////////////////////////////////////////////////////////////"
   ]
  },
  {
   "cell_type": "markdown",
   "id": "132183c2-7b33-48cc-9a48-b7ed5fcaa6a2",
   "metadata": {
    "tags": []
   },
   "source": [
    "# **1. Test Spark code in Interactive Data Flow Session**"
   ]
  },
  {
   "cell_type": "markdown",
   "id": "fdb0a8a0-2d2e-4d42-bd7b-3c79bd089438",
   "metadata": {},
   "source": [
    "## **Help function**"
   ]
  },
  {
   "cell_type": "code",
   "execution_count": 3,
   "id": "3c25856e-6786-46dc-8ca1-f6ea79b8135a",
   "metadata": {
    "tags": []
   },
   "outputs": [],
   "source": [
    "def prepare_command(command: dict) -> str:\n",
    "    \"\"\"Converts dictionary command to the string formatted commands.\"\"\"\n",
    "    return f\"'{json.dumps(command)}'\""
   ]
  },
  {
   "cell_type": "markdown",
   "id": "111e6ba1-1e5f-457c-a557-97b605c886f0",
   "metadata": {},
   "source": [
    "## **Create an interactive OCI Data Flow Session**"
   ]
  },
  {
   "cell_type": "code",
   "execution_count": 5,
   "id": "29231dc8-0cc3-47c0-b44f-ccb42de74e2a",
   "metadata": {
    "tags": []
   },
   "outputs": [
    {
     "name": "stdout",
     "output_type": "stream",
     "text": [
      "Setting up the Cluster..\n"
     ]
    },
    {
     "data": {
      "application/vnd.jupyter.widget-view+json": {
       "model_id": "ffa27bcbb249485c8e5a57da80fd0305",
       "version_major": 2,
       "version_minor": 0
      },
      "text/plain": [
       "FloatProgress(value=0.0, bar_style='info', description='Progress:', layout=Layout(height='25px', width='50%'),…"
      ]
     },
     "metadata": {},
     "output_type": "display_data"
    },
    {
     "name": "stdout",
     "output_type": "stream",
     "text": [
      "Cluster is ready..\n",
      "Starting Spark application..\n"
     ]
    },
    {
     "data": {
      "text/html": [
       "<table>\n",
       "<tr><th>Session ID</th><th>Kind</th><th>State</th><th>Current session</th></tr><tr><td>ocid1.dataflowapplication.oc1.eu-frankfurt-1.antheljrngencdya44cf5hkxcvfuarsi2a74fjvgqy6clw372oo4hxi7rnnq</td><td>pyspark</td><td>IN_PROGRESS</td><td><a target=\"_blank\" href=\"https://console.us-phoenix-1.oraclecloud.com/data-flow/runs/details/ocid1.dataflowrun.oc1.eu-frankfurt-1.antheljrngencdyaoqao7wu2yicmu4o7yiu43knlzxlklthfx77klzqj5yca?region=eu-frankfurt-1\">Dataflow Run</a></td></tr></table>"
      ],
      "text/plain": [
       "<IPython.core.display.HTML object>"
      ]
     },
     "metadata": {},
     "output_type": "display_data"
    },
    {
     "data": {
      "application/vnd.jupyter.widget-view+json": {
       "model_id": "",
       "version_major": 2,
       "version_minor": 0
      },
      "text/plain": [
       "FloatProgress(value=0.0, bar_style='info', description='Progress:', layout=Layout(height='25px', width='50%'),…"
      ]
     },
     "metadata": {},
     "output_type": "display_data"
    },
    {
     "name": "stdout",
     "output_type": "stream",
     "text": [
      "SparkSession available as 'spark'.\n",
      "SparkContext available as 'sc'.\n"
     ]
    }
   ],
   "source": [
    "command = prepare_command(\n",
    "    {\n",
    "        \"compartmentId\": compartment_id,\n",
    "        \"displayName\": \"DF_sessionxx\",\n",
    "        \"language\": \"PYTHON\",\n",
    "        \"sparkVersion\": \"3.2.1\",\n",
    "        \"numExecutors\": 1,\n",
    "        \"driverShape\": \"VM.Standard.E4.Flex\",\n",
    "        \"executorShape\": \"VM.Standard.E4.Flex\",\n",
    "        \"driverShapeConfig\": {\"ocpus\": 2, \"memoryInGBs\": 32},\n",
    "        \"executorShapeConfig\": {\"ocpus\": 2, \"memoryInGBs\": 32},\n",
    "        \"type\": \"SESSION\",\n",
    "        \"logsBucketUri\": logs_bucket_uri,\n",
    "        \"configuration\": {\n",
    "            \"fs.oci.client.hostname\": \"https://objectstorage.eu-frankfurt-1.oraclecloud.com\"\n",
    "        },\n",
    "    }\n",
    ")\n",
    "\n",
    "%create_session -l python -c $command"
   ]
  },
  {
   "cell_type": "markdown",
   "id": "f44161bd-adf6-4646-b0ee-a59e4a817e79",
   "metadata": {},
   "source": [
    "## **Check status**"
   ]
  },
  {
   "cell_type": "code",
   "execution_count": 14,
   "id": "abd27c78-93dd-4a60-a928-ab491f293b2d",
   "metadata": {
    "tags": []
   },
   "outputs": [
    {
     "data": {
      "text/html": [
       "<table>\n",
       "<tr><th>Session</th><th>State</th><th>Max Duration In Minutes</th><th>Total Execution Time In Minutes</th><th>Remaining Duration In Minutes</th><th>Current Session</th></tr><tr><td>ocid1.dataflowapplication.oc1.eu-frankfurt-1.antheljrngencdya44cf5hkxcvfuarsi2a74fjvgqy6clw372oo4hxi7rnnq</td><td>IN_PROGRESS</td><td>1440</td><td>26</td><td>1414</td><td><a target=\"_blank\" href=\"https://console.us-phoenix-1.oraclecloud.com/data-flow/runs/details/ocid1.dataflowrun.oc1.eu-frankfurt-1.antheljsngencdyae5la3oqawibjgvccwpau34xzslofd2ktfh66ttk4es2q?region=eu-frankfurt-1\">Dataflow Run</a></td></tr></table>"
      ],
      "text/plain": [
       "<IPython.core.display.HTML object>"
      ]
     },
     "metadata": {},
     "output_type": "display_data"
    }
   ],
   "source": [
    "%status"
   ]
  },
  {
   "cell_type": "markdown",
   "id": "86a98925-a760-46d8-806e-7db171976acb",
   "metadata": {},
   "source": [
    "## **Run/Test Spark code in the active session - From notebook**"
   ]
  },
  {
   "cell_type": "code",
   "execution_count": 13,
   "id": "3c7cc437-183d-4b94-b78b-bbab4b37f348",
   "metadata": {
    "tags": []
   },
   "outputs": [
    {
     "data": {
      "application/vnd.jupyter.widget-view+json": {
       "model_id": "",
       "version_major": 2,
       "version_minor": 0
      },
      "text/plain": [
       "FloatProgress(value=0.0, bar_style='info', description='Progress:', layout=Layout(height='25px', width='50%'),…"
      ]
     },
     "metadata": {},
     "output_type": "display_data"
    },
    {
     "name": "stdout",
     "output_type": "stream",
     "text": [
      "3.2.1"
     ]
    }
   ],
   "source": [
    "%%spark\n",
    "print(sc.version)"
   ]
  },
  {
   "cell_type": "code",
   "execution_count": 16,
   "id": "849f0509-a22e-456d-bc7d-c5ff55c756b7",
   "metadata": {
    "tags": []
   },
   "outputs": [
    {
     "data": {
      "application/vnd.jupyter.widget-view+json": {
       "model_id": "",
       "version_major": 2,
       "version_minor": 0
      },
      "text/plain": [
       "FloatProgress(value=0.0, bar_style='info', description='Progress:', layout=Layout(height='25px', width='50%'),…"
      ]
     },
     "metadata": {},
     "output_type": "display_data"
    },
    {
     "name": "stdout",
     "output_type": "stream",
     "text": [
      "Start\n",
      "Saving output csv in bucket as one file\n",
      "+-----------+--------------------+---------------+------------+--------------------+------------------+\n",
      "|customer_id|avg_quantity_ordered|avg_sales_price|avg_discount|avg_gross_unit_price|avg_shipping_costs|\n",
      "+-----------+--------------------+---------------+------------+--------------------+------------------+\n",
      "|      41374|                14.0|        1043.94|       78.58|               80.18|             20.88|\n",
      "|      29912|                 3.0|         218.61|        8.88|               72.88|              4.69|\n",
      "|      28117|                10.5|         334.27|       31.33|               32.65|               7.3|\n",
      "|      37246|               15.67|         958.32|      103.93|                62.3|              19.4|\n",
      "|      28316|                10.0|         305.07|        10.8|               21.88|              6.21|\n",
      "|       5925|                 6.0|         238.25|       28.61|               44.47|              2.39|\n",
      "|      11888|               10.67|         585.22|       81.43|               69.99|              8.22|\n",
      "|      15574|                14.5|         633.52|       81.04|               56.57|             12.67|\n",
      "|      47940|                6.33|         380.64|       18.27|               49.08|             11.42|\n",
      "|      38433|                15.0|         887.44|       18.11|               60.37|             26.62|\n",
      "|      42743|                 7.0|         511.31|       30.76|               67.86|             10.42|\n",
      "|      37311|               13.33|         251.61|        31.7|               20.65|              7.55|\n",
      "|        467|                 5.0|         233.18|       28.82|                52.4|              4.66|\n",
      "|      27108|                 3.5|         155.33|       16.67|               41.91|              3.35|\n",
      "|        691|                 9.0|         563.59|       79.63|               59.74|              9.66|\n",
      "|      33174|                 5.0|         442.91|        9.04|               90.39|              8.86|\n",
      "|       9583|                10.4|          652.8|       53.97|               65.86|             13.85|\n",
      "|       6613|                15.6|         374.34|       52.67|               31.02|              4.12|\n",
      "|      29539|               12.75|         529.23|       49.17|                45.9|              11.5|\n",
      "|      25894|                 9.0|         444.31|       43.51|               48.83|             10.42|\n",
      "+-----------+--------------------+---------------+------------+--------------------+------------------+\n",
      "only showing top 20 rows"
     ]
    }
   ],
   "source": [
    "%%spark\n",
    "\n",
    "from __future__ import print_function\n",
    "import sys\n",
    "from random import random\n",
    "from operator import add\n",
    "import argparse\n",
    "import os\n",
    "from pyspark import SparkConf\n",
    "from pyspark.sql import SparkSession\n",
    "from pyspark.sql.functions import *\n",
    "from pyspark.sql.functions import col, sum, to_date, from_unixtime, unix_timestamp, expr\n",
    "from pyspark.sql.types import StringType\n",
    "\n",
    "\n",
    "print(\"Start\")\n",
    "\n",
    "input_location = \"oci://West_BP@frqap2zhtzbe/retail_wow/fake_order_lines_data.csv\"\n",
    "output_location = \"oci://West_BP@frqap2zhtzbe/retail_wow/output_in_interactive_session\"\n",
    "\n",
    "#read csv file\n",
    "df = spark.read.option(\"delimiter\", \",\").option(\"header\", True).csv(input_location)\n",
    "\n",
    "#Group by Customer ID, multiple values.\n",
    "grouped_df = df.groupBy(\"customer_id\").agg(avg(\"quantity\").alias(\"avg_quantity_ordered\"),\n",
    "                                          (avg(\"sales_price\").alias(\"avg_sales_price\")),\n",
    "                                          (avg(\"discount\").alias(\"avg_discount\")),\n",
    "                                          (avg(\"gross_unit_price\").alias(\"avg_gross_unit_price\")),\n",
    "                                          (avg(\"shipping_cost\").alias(\"avg_shipping_costs\")))\n",
    "\n",
    "## round to 2 decimals\n",
    "grouped_df = grouped_df.withColumn('avg_quantity_ordered', round(grouped_df.avg_quantity_ordered, 2))\n",
    "grouped_df = grouped_df.withColumn('avg_sales_price', round(grouped_df.avg_sales_price, 2))\n",
    "grouped_df = grouped_df.withColumn('avg_discount', round(grouped_df.avg_discount, 2))\n",
    "grouped_df = grouped_df.withColumn('avg_gross_unit_price', round(grouped_df.avg_gross_unit_price, 2))\n",
    "grouped_df = grouped_df.withColumn('avg_shipping_costs', round(grouped_df.avg_shipping_costs, 2))\n",
    "\n",
    "\n",
    "print(\"Saving output csv in bucket as one file\")\n",
    "grouped_df.repartition(1).write.mode(\"overwrite\").option(\"header\", True).csv(output_location)\n",
    "\n",
    "grouped_df.show()   \n",
    "    \n"
   ]
  },
  {
   "cell_type": "markdown",
   "id": "9e9c13c5-4756-47a8-82c2-7b73a36d66b4",
   "metadata": {},
   "source": [
    "///////////////////////////////////////////////////////////////////////////////////////////////////////////////////////////////////////////////////////////////////////////////////////////////////////////////////////////////////////////"
   ]
  },
  {
   "cell_type": "markdown",
   "id": "d34c9344-a9b4-4f5d-b990-8461ca411dbc",
   "metadata": {},
   "source": [
    "# **2. Create .py script, a OCI Data Flow application, and run application**"
   ]
  },
  {
   "cell_type": "markdown",
   "id": "0eac3d9c-1d5f-4fb4-8457-feffc02ffe07",
   "metadata": {},
   "source": [
    "## **Create script.py**"
   ]
  },
  {
   "cell_type": "code",
   "execution_count": 6,
   "id": "c08062ed-8d15-43c9-88fa-900b5ba25b38",
   "metadata": {
    "tags": []
   },
   "outputs": [
    {
     "name": "stdout",
     "output_type": "stream",
     "text": [
      "Overwriting ./script_v2.py\n"
     ]
    }
   ],
   "source": [
    "%%writefile ./script_v2.py\n",
    "from __future__ import print_function\n",
    "from pyspark import SparkConf\n",
    "from pyspark.sql import SparkSession, SQLContext\n",
    "import sys\n",
    "from random import random\n",
    "from operator import add\n",
    "import argparse\n",
    "import os\n",
    "from pyspark.sql.functions import *\n",
    "from pyspark.sql.functions import col, sum, to_date, from_unixtime, unix_timestamp, expr\n",
    "from pyspark.sql.types import StringType\n",
    "\n",
    "\n",
    "def main():\n",
    "    \n",
    "    print(\"Start\")\n",
    "    \n",
    "    parser = argparse.ArgumentParser()\n",
    "    parser.add_argument(\"--input_path\", required=True)\n",
    "    parser.add_argument(\"--output_path\", required=True)\n",
    "    args = parser.parse_args()\n",
    "\n",
    "    # Set up Spark.\n",
    "    spark_session = get_dataflow_spark_session()\n",
    "    sql_context = SQLContext(spark_session)  \n",
    "\n",
    "    #read csv file\n",
    "    df = sql_context.read.option(\"delimiter\", \",\").option(\"header\", True).csv(args.input_path)\n",
    "\n",
    "    #Group by Customer ID, multiple values.\n",
    "    grouped_df = df.groupBy(\"customer_id\").agg(avg(\"quantity\").alias(\"avg_quantity_ordered\"),\n",
    "                                          (avg(\"sales_price\").alias(\"avg_sales_price\")),\n",
    "                                          (avg(\"discount\").alias(\"avg_discount\")),\n",
    "                                          (avg(\"gross_unit_price\").alias(\"avg_gross_unit_price\")),\n",
    "                                          (avg(\"shipping_cost\").alias(\"avg_shipping_costs\")))\n",
    "\n",
    "    ## round to 2 decimals\n",
    "    grouped_df = grouped_df.withColumn('avg_quantity_ordered', round(grouped_df.avg_quantity_ordered, 2))\n",
    "    grouped_df = grouped_df.withColumn('avg_sales_price', round(grouped_df.avg_sales_price, 2))\n",
    "    grouped_df = grouped_df.withColumn('avg_discount', round(grouped_df.avg_discount, 2))\n",
    "    grouped_df = grouped_df.withColumn('avg_gross_unit_price', round(grouped_df.avg_gross_unit_price, 2))\n",
    "    grouped_df = grouped_df.withColumn('avg_shipping_costs', round(grouped_df.avg_shipping_costs, 2))\n",
    "\n",
    "\n",
    "    print(\"Saving output csv in bucket as one file\")\n",
    "    grouped_df.repartition(1).write.mode(\"overwrite\").option(\"header\", True).csv(args.output_path)\n",
    "\n",
    "    #grouped_df.show()   \n",
    "\n",
    "    \n",
    "    \n",
    "def get_dataflow_spark_session(\n",
    "    app_name=\"DataFlow\", file_location=None, profile_name=None, spark_config={}\n",
    "):\n",
    "    \"\"\"\n",
    "    Get a Spark session in a way that supports running locally or in Data Flow.\n",
    "    \"\"\"\n",
    "    if in_dataflow():\n",
    "        spark_builder = SparkSession.builder.appName(app_name)\n",
    "    else:\n",
    "        # Import OCI.\n",
    "        try:\n",
    "            import oci\n",
    "        except:\n",
    "            raise Exception(\n",
    "                \"You need to install the OCI python library to test locally\"\n",
    "            )\n",
    "\n",
    "        # Use defaults for anything unset.\n",
    "        if file_location is None:\n",
    "            file_location = oci.config.DEFAULT_LOCATION\n",
    "        if profile_name is None:\n",
    "            profile_name = oci.config.DEFAULT_PROFILE\n",
    "\n",
    "        # Load the config file.\n",
    "        try:\n",
    "            oci_config = oci.config.from_file(\n",
    "                file_location=file_location, profile_name=profile_name\n",
    "            )\n",
    "        except Exception as e:\n",
    "            print(\"You need to set up your OCI config properly to run locally\")\n",
    "            raise e\n",
    "        conf = SparkConf()\n",
    "        conf.set(\"fs.oci.client.auth.tenantId\", oci_config[\"tenancy\"])\n",
    "        conf.set(\"fs.oci.client.auth.userId\", oci_config[\"user\"])\n",
    "        conf.set(\"fs.oci.client.auth.fingerprint\", oci_config[\"fingerprint\"])\n",
    "        conf.set(\"fs.oci.client.auth.pemfilepath\", oci_config[\"key_file\"])\n",
    "        conf.set(\n",
    "            \"fs.oci.client.hostname\",\n",
    "            \"https://objectstorage.{0}.oraclecloud.com\".format(oci_config[\"region\"]),\n",
    "        )\n",
    "        spark_builder = SparkSession.builder.appName(app_name).config(conf=conf)\n",
    "\n",
    "    # Add in extra configuration.\n",
    "    for key, val in spark_config.items():\n",
    "        spark_builder.config(key, val)\n",
    "\n",
    "    # Create the Spark session.\n",
    "    session = spark_builder.getOrCreate()\n",
    "    return session\n",
    "\n",
    "\n",
    "def in_dataflow():\n",
    "    \"\"\"\n",
    "    Determine if we are running in OCI Data Flow by checking the environment.\n",
    "    \"\"\"\n",
    "    if os.environ.get(\"HOME\") == \"/home/dataflow\":\n",
    "        return True\n",
    "    return False\n",
    "\n",
    "\n",
    "if __name__ == \"__main__\":\n",
    "    main()\n"
   ]
  },
  {
   "cell_type": "markdown",
   "id": "f61782d0-b109-4ce1-ae53-835982b4fac3",
   "metadata": {},
   "source": [
    "## **Store .py file in the bucket**"
   ]
  },
  {
   "cell_type": "code",
   "execution_count": 29,
   "id": "d5cbc19f-ae09-4d39-9e31-708d7a5fbc0c",
   "metadata": {
    "tags": []
   },
   "outputs": [],
   "source": [
    "#!oci os object put --namespace frqap2zhtzbe --bucket-name West_BP --name script.py --file script.py --debug --force "
   ]
  },
  {
   "cell_type": "markdown",
   "id": "2bb2ae20-5491-4f3e-b4d5-130a4ea4d0b2",
   "metadata": {},
   "source": [
    "## **Create an application**"
   ]
  },
  {
   "cell_type": "code",
   "execution_count": 17,
   "id": "a8a5ace4-72a4-40e8-a74d-ef922246221f",
   "metadata": {},
   "outputs": [
    {
     "name": "stdout",
     "output_type": "stream",
     "text": [
      "{\n",
      "  \"application_log_config\": {\n",
      "    \"log_group_id\": null,\n",
      "    \"log_id\": null\n",
      "  },\n",
      "  \"archive_uri\": \"\",\n",
      "  \"arguments\": [\n",
      "    \"--input_path\",\n",
      "    \"oci://West_BP@frqap2zhtzbe/retail_wow/fake_order_lines_data.csv\",\n",
      "    \"--output_path\",\n",
      "    \"oci://West_BP@frqap2zhtzbe/retail_wow/output\"\n",
      "  ],\n",
      "  \"class_name\": \"\",\n",
      "  \"compartment_id\": \"ocid1.compartment.oc1..aaaaaaaae3n6r6hrjipbap2hojicrsvkzatrtlwvsyrpyjd7wjnw4za3m75q\",\n",
      "  \"configuration\": null,\n",
      "  \"defined_tags\": {\n",
      "    \"default-tags\": {\n",
      "      \"CreatedBy\": \"oracleidentitycloudservice/bob.peulen@oracle.com\"\n",
      "    }\n",
      "  },\n",
      "  \"description\": \"retail_demo_v2\",\n",
      "  \"display_name\": \"retail_demo_v2\",\n",
      "  \"driver_shape\": \"VM.Standard.E4.Flex\",\n",
      "  \"driver_shape_config\": {\n",
      "    \"memory_in_gbs\": 16.0,\n",
      "    \"ocpus\": 2.0\n",
      "  },\n",
      "  \"execute\": null,\n",
      "  \"executor_shape\": \"VM.Standard.E4.Flex\",\n",
      "  \"executor_shape_config\": {\n",
      "    \"memory_in_gbs\": 16.0,\n",
      "    \"ocpus\": 2.0\n",
      "  },\n",
      "  \"file_uri\": \"oci://West_BP@frqap2zhtzbe/retail_wow/script_v2.py\",\n",
      "  \"freeform_tags\": {},\n",
      "  \"id\": \"ocid1.dataflowapplication.oc1.eu-frankfurt-1.antheljrngencdyarwfdwanonky3i2k2xu65a47sv4in4l5lc4getdze6bvq\",\n",
      "  \"idle_timeout_in_minutes\": null,\n",
      "  \"language\": \"PYTHON\",\n",
      "  \"lifecycle_state\": \"ACTIVE\",\n",
      "  \"logs_bucket_uri\": \"oci://West_BP@frqap2zhtzbe/data_flow_logs\",\n",
      "  \"max_duration_in_minutes\": null,\n",
      "  \"metastore_id\": null,\n",
      "  \"num_executors\": 2,\n",
      "  \"owner_principal_id\": \"ocid1.user.oc1..aaaaaaaakmn2nsfq47lzedlawxwk5a7uzgns2ek5uh2nhvbt2r67ek57tfea\",\n",
      "  \"owner_user_name\": \"bob.peulen@oracle.com\",\n",
      "  \"parameters\": null,\n",
      "  \"pool_id\": null,\n",
      "  \"private_endpoint_id\": \"\",\n",
      "  \"spark_version\": \"3.2.1\",\n",
      "  \"time_created\": \"2024-04-18T08:48:34.503000+00:00\",\n",
      "  \"time_updated\": \"2024-04-18T08:48:34.503000+00:00\",\n",
      "  \"type\": \"BATCH\",\n",
      "  \"warehouse_bucket_uri\": null\n",
      "}\n"
     ]
    }
   ],
   "source": [
    "import oci\n",
    "\n",
    "#set the display name\n",
    "display_name = \"retail_demo_v2\"\n",
    "\n",
    "#compartment id and log uri\n",
    "comp_id = os.environ.get(\"NB_SESSION_COMPARTMENT_OCID\")\n",
    "logs_bucket_uri = \"oci://West_BP@frqap2zhtzbe/data_flow_logs\"\n",
    "\n",
    "#auth\n",
    "config = oci.config.from_file()\n",
    "\n",
    "#set client\n",
    "data_flow_client = oci.data_flow.DataFlowClient(config)\n",
    "\n",
    "\n",
    "create_application_response = data_flow_client.create_application(\n",
    "    create_application_details=oci.data_flow.models.CreateApplicationDetails(\n",
    "        compartment_id=comp_id,\n",
    "        display_name=display_name,\n",
    "        driver_shape=\"VM.Standard.E4.Flex\",\n",
    "        executor_shape=\"VM.Standard.E4.Flex\",\n",
    "        \n",
    "        language=\"PYTHON\",\n",
    "        num_executors=2,\n",
    "        spark_version=\"3.2.1\",        \n",
    "        \n",
    "        arguments=[\"--input_path\", \"oci://West_BP@frqap2zhtzbe/retail_wow/fake_order_lines_data.csv\", \n",
    "                   \"--output_path\", \"oci://West_BP@frqap2zhtzbe/retail_wow/output\"],\n",
    "\n",
    "        description=display_name,\n",
    "        driver_shape_config=oci.data_flow.models.ShapeConfig(\n",
    "            ocpus=2,\n",
    "            memory_in_gbs=16),\n",
    "        executor_shape_config=oci.data_flow.models.ShapeConfig(\n",
    "            ocpus=2,\n",
    "            memory_in_gbs=16),\n",
    "        \n",
    "        file_uri=\"oci://West_BP@frqap2zhtzbe/retail_wow/script_v2.py\",\n",
    "        \n",
    "        logs_bucket_uri=logs_bucket_uri,\n",
    "\n",
    "        type=\"BATCH\"))\n",
    "\n",
    "# Get the data from response\n",
    "print(create_application_response.data)"
   ]
  },
  {
   "cell_type": "markdown",
   "id": "4b8eb565-f010-4987-ace0-f1b939a61068",
   "metadata": {},
   "source": [
    "## **Start a Run**"
   ]
  },
  {
   "cell_type": "code",
   "execution_count": 18,
   "id": "bb9b2700-f656-4117-adeb-b9f36054f857",
   "metadata": {
    "tags": []
   },
   "outputs": [
    {
     "name": "stdout",
     "output_type": "stream",
     "text": [
      "{\n",
      "  \"application_id\": \"ocid1.dataflowapplication.oc1.eu-frankfurt-1.antheljrngencdyarwfdwanonky3i2k2xu65a47sv4in4l5lc4getdze6bvq\",\n",
      "  \"application_log_config\": {\n",
      "    \"log_group_id\": null,\n",
      "    \"log_id\": null\n",
      "  },\n",
      "  \"archive_uri\": \"\",\n",
      "  \"arguments\": [\n",
      "    \"--input_path\",\n",
      "    \"oci://West_BP@frqap2zhtzbe/retail_wow/fake_order_lines_data.csv\",\n",
      "    \"--output_path\",\n",
      "    \"oci://West_BP@frqap2zhtzbe/retail_wow/output\"\n",
      "  ],\n",
      "  \"class_name\": \"\",\n",
      "  \"compartment_id\": \"ocid1.compartment.oc1..aaaaaaaae3n6r6hrjipbap2hojicrsvkzatrtlwvsyrpyjd7wjnw4za3m75q\",\n",
      "  \"configuration\": null,\n",
      "  \"data_read_in_bytes\": 0,\n",
      "  \"data_written_in_bytes\": 0,\n",
      "  \"defined_tags\": {\n",
      "    \"default-tags\": {\n",
      "      \"CreatedBy\": \"oracleidentitycloudservice/bob.peulen@oracle.com\"\n",
      "    }\n",
      "  },\n",
      "  \"display_name\": \"run_job\",\n",
      "  \"driver_shape\": \"VM.Standard.E4.Flex\",\n",
      "  \"driver_shape_config\": {\n",
      "    \"memory_in_gbs\": 16.0,\n",
      "    \"ocpus\": 2.0\n",
      "  },\n",
      "  \"execute\": \"\",\n",
      "  \"executor_shape\": \"VM.Standard.E4.Flex\",\n",
      "  \"executor_shape_config\": {\n",
      "    \"memory_in_gbs\": 16.0,\n",
      "    \"ocpus\": 2.0\n",
      "  },\n",
      "  \"file_uri\": \"oci://West_BP@frqap2zhtzbe/retail_wow/script_v2.py\",\n",
      "  \"freeform_tags\": {},\n",
      "  \"id\": \"ocid1.dataflowrun.oc1.eu-frankfurt-1.antheljsngencdya2qh6dmwwg5tiamxc3r6dygbdp7lgifo5wuem633kauha\",\n",
      "  \"idle_timeout_in_minutes\": null,\n",
      "  \"language\": \"PYTHON\",\n",
      "  \"lifecycle_details\": null,\n",
      "  \"lifecycle_state\": \"ACCEPTED\",\n",
      "  \"logs_bucket_uri\": \"oci://West_BP@frqap2zhtzbe/data_flow_logs\",\n",
      "  \"max_duration_in_minutes\": null,\n",
      "  \"metastore_id\": null,\n",
      "  \"num_executors\": 2,\n",
      "  \"opc_request_id\": \"6C62C7E5E83C47F2A182F9052FE50B47/477AA02CD5D625D2FF17699DEB31564B\",\n",
      "  \"owner_principal_id\": \"ocid1.user.oc1..aaaaaaaakmn2nsfq47lzedlawxwk5a7uzgns2ek5uh2nhvbt2r67ek57tfea\",\n",
      "  \"owner_user_name\": \"bob.peulen@oracle.com\",\n",
      "  \"parameters\": null,\n",
      "  \"pool_id\": null,\n",
      "  \"private_endpoint_dns_zones\": null,\n",
      "  \"private_endpoint_id\": null,\n",
      "  \"private_endpoint_max_host_count\": null,\n",
      "  \"private_endpoint_nsg_ids\": null,\n",
      "  \"private_endpoint_subnet_id\": null,\n",
      "  \"run_duration_in_milliseconds\": 0,\n",
      "  \"spark_version\": \"3.2.1\",\n",
      "  \"time_created\": \"2024-04-18T08:49:52.504000+00:00\",\n",
      "  \"time_updated\": \"2024-04-18T08:49:52.504000+00:00\",\n",
      "  \"total_o_cpu\": 6,\n",
      "  \"type\": \"BATCH\",\n",
      "  \"warehouse_bucket_uri\": \"\"\n",
      "}\n"
     ]
    }
   ],
   "source": [
    "#get application id\n",
    "application_id = create_application_response.data.id\n",
    "\n",
    "data_flow_client = oci.data_flow.DataFlowClient(config)\n",
    "\n",
    "create_run_response = data_flow_client.create_run(\n",
    "    create_run_details=oci.data_flow.models.CreateRunDetails(\n",
    "        compartment_id=comp_id,\n",
    "        application_id=application_id,\n",
    "        display_name=\"run_job\"))\n",
    "\n",
    "print(create_run_response.data)"
   ]
  },
  {
   "cell_type": "code",
   "execution_count": null,
   "id": "7b3ade79-2720-483c-8255-eaecca0fec8f",
   "metadata": {},
   "outputs": [],
   "source": []
  },
  {
   "cell_type": "markdown",
   "id": "5a266d68-932e-483b-ac39-6af707c9f480",
   "metadata": {},
   "source": [
    "## **Extra**"
   ]
  },
  {
   "cell_type": "code",
   "execution_count": 5,
   "id": "721ed374-3d72-46e8-9903-166d53b874ea",
   "metadata": {},
   "outputs": [
    {
     "name": "stdout",
     "output_type": "stream",
     "text": [
      "Setting up the Cluster..\n"
     ]
    },
    {
     "data": {
      "application/vnd.jupyter.widget-view+json": {
       "model_id": "e12a30cfdef34336ba7d786c984bdd4d",
       "version_major": 2,
       "version_minor": 0
      },
      "text/plain": [
       "FloatProgress(value=0.0, bar_style='info', description='Progress:', layout=Layout(height='25px', width='50%'),…"
      ]
     },
     "metadata": {},
     "output_type": "display_data"
    },
    {
     "name": "stdout",
     "output_type": "stream",
     "text": [
      "Cluster is ready..\n",
      "Starting Spark application..\n"
     ]
    },
    {
     "data": {
      "text/html": [
       "<table>\n",
       "<tr><th>Session ID</th><th>Kind</th><th>State</th><th>Current session</th></tr><tr><td>ocid1.dataflowapplication.oc1.eu-frankfurt-1.antheljrngencdya44cf5hkxcvfuarsi2a74fjvgqy6clw372oo4hxi7rnnq</td><td>pyspark</td><td>IN_PROGRESS</td><td><a target=\"_blank\" href=\"https://console.us-phoenix-1.oraclecloud.com/data-flow/runs/details/ocid1.dataflowrun.oc1.eu-frankfurt-1.antheljsngencdyae5la3oqawibjgvccwpau34xzslofd2ktfh66ttk4es2q?region=eu-frankfurt-1\">Dataflow Run</a></td></tr></table>"
      ],
      "text/plain": [
       "<IPython.core.display.HTML object>"
      ]
     },
     "metadata": {},
     "output_type": "display_data"
    },
    {
     "data": {
      "application/vnd.jupyter.widget-view+json": {
       "model_id": "",
       "version_major": 2,
       "version_minor": 0
      },
      "text/plain": [
       "FloatProgress(value=0.0, bar_style='info', description='Progress:', layout=Layout(height='25px', width='50%'),…"
      ]
     },
     "metadata": {},
     "output_type": "display_data"
    },
    {
     "name": "stdout",
     "output_type": "stream",
     "text": [
      "SparkSession available as 'spark'.\n",
      "SparkContext available as 'sc'.\n"
     ]
    }
   ],
   "source": [
    "## Activate ssession\n",
    "\n",
    "command = prepare_command(\n",
    "    {\n",
    "        \"compartmentId\": os.environ.get(\"NB_SESSION_COMPARTMENT_OCID\"),\n",
    "        \"displayName\": \"DF_session\",\n",
    "        \"applicationId\": \"ocid1.dataflowapplication.oc1.eu-frankfurt-1.antheljrngencdya44cf5hkxcvfuarsi2a74fjvgqy6clw372oo4hxi7rnnq\",\n",
    "    }\n",
    ")\n",
    "\n",
    "%activate_session -l python -c $command"
   ]
  },
  {
   "cell_type": "code",
   "execution_count": null,
   "id": "7177e041-d370-4e31-a376-3a23c9ec2f86",
   "metadata": {},
   "outputs": [],
   "source": [
    "%stop_session"
   ]
  },
  {
   "cell_type": "code",
   "execution_count": null,
   "id": "ad8f3405-826e-4921-98bd-ff75e580c6d0",
   "metadata": {},
   "outputs": [],
   "source": []
  }
 ],
 "metadata": {
  "kernelspec": {
   "display_name": "Python [conda env:fspyspark32_p38_cpu#conda_v1]",
   "language": "python",
   "name": "conda-env-fspyspark32_p38_cpu_conda_v1-py"
  },
  "language_info": {
   "codemirror_mode": {
    "name": "ipython",
    "version": 3
   },
   "file_extension": ".py",
   "mimetype": "text/x-python",
   "name": "python",
   "nbconvert_exporter": "python",
   "pygments_lexer": "ipython3",
   "version": "3.8.17"
  }
 },
 "nbformat": 4,
 "nbformat_minor": 5
}
