{
 "cells": [
  {
   "cell_type": "markdown",
   "id": "d05defdc-13a6-4513-9fdc-d025283d5eb9",
   "metadata": {},
   "source": [
    "**-------------------------------------------------------------------------------------------------------------------------------------------------------------------------------------------**"
   ]
  },
  {
   "cell_type": "markdown",
   "id": "e069fad5-337a-4372-b1f9-2985edc5fe0b",
   "metadata": {},
   "source": [
    "<h1>Deploy a Re-ranking model using OCI Data Science, Model Deployment</h1>"
   ]
  },
  {
   "cell_type": "markdown",
   "id": "de64e437-2520-4827-9528-527bcd589d9b",
   "metadata": {},
   "source": [
    "**-------------------------------------------------------------------------------------------------------------------------------------------------------------------------------------------**"
   ]
  },
  {
   "cell_type": "markdown",
   "id": "9b66449d-6aba-49f7-b186-be5a3fb72da7",
   "metadata": {},
   "source": [
    "**Prerequisites to run the notebook:**\n",
    "- Please use either resource principal or your API Key (config and private key) for authentication. When using the config, make sure to store the config and private key in the /home/datascience/.oci directory\n",
    "- Please make sure all policies for both the notebook (dynamic group) and personal policies are in place to build, store, and deploy a model"
   ]
  },
  {
   "cell_type": "markdown",
   "id": "084080d9-cc38-4d6c-8dae-81308dcac16e",
   "metadata": {
    "tags": []
   },
   "source": [
    "# **Step 1 - Install and Publish Custom Conda environment**"
   ]
  },
  {
   "cell_type": "markdown",
   "id": "6e23bcdd-643d-4751-9969-0e8a3cdbac3b",
   "metadata": {},
   "source": [
    "To deploy the re-ranker model, this example uses FlagEmbedding. However, FlagEmbedding is not by default installed in the Conda environments. So, you have to install FlagEmbedding in the Conda environment and publish the (then custom) conda environment. That way, when you deploy the re-ranker model, the runtime environment (conda) used includes the FlagEmbedding package."
   ]
  },
  {
   "cell_type": "markdown",
   "id": "1673ee1f-2c63-49c0-9e7b-4632d19d70d2",
   "metadata": {},
   "source": [
    "## Step 1.1 - Create a Custom Conda environment\n",
    "\n",
    "Follow the described steps [here](https://docs.oracle.com/en-us/iaas/data-science/using/conda_create_conda_env.htm) to create a custom Conda environment"
   ]
  },
  {
   "cell_type": "markdown",
   "id": "62e59c03-b9fd-41c4-890c-a7dc970883b2",
   "metadata": {},
   "source": [
    "## Step 1.2 - Install dependencies\n",
    "\n",
    "After installing the custom conda environment, please make sure the following packages are installed in the custom conda environment (\"pip install [package]\")\n",
    "- oracle-ads --upgrade\n",
    "- pandas\n",
    "- json\n",
    "- FlagEmbedding"
   ]
  },
  {
   "cell_type": "markdown",
   "id": "eb00c33a-28a9-40e5-81be-d4628de7d128",
   "metadata": {},
   "source": [
    "## Step 1.3 - Run the below imports"
   ]
  },
  {
   "cell_type": "code",
   "execution_count": null,
   "id": "d849bc3e-7937-429e-9dd0-b571d744028c",
   "metadata": {},
   "outputs": [],
   "source": [
    "import ads\n",
    "import pandas as pd\n",
    "import json\n",
    "from FlagEmbedding import FlagReranker\n",
    "from ads.model.generic_model import GenericModel\n",
    "from ads.model.model_metadata import MetadataCustomCategory"
   ]
  },
  {
   "cell_type": "markdown",
   "id": "86cb8e34-92a3-45f0-830d-017fabca54f5",
   "metadata": {},
   "source": [
    "## Step 1.4 - Publish the custom Conda environment\n",
    "\n",
    "Follow the described steps [here](https://docs.oracle.com/en-us/iaas/data-science/using/conda_publishs_object.htm) to publish the custom Conda environment to object storage"
   ]
  },
  {
   "cell_type": "code",
   "execution_count": null,
   "id": "1da3d651-f892-40cf-be70-88c76e9865db",
   "metadata": {},
   "outputs": [],
   "source": [
    "!odsc conda init -b [YOUR_BUCKET_NAME] -n [YOUR_NAMESPACE] -a resource_principal\n",
    "!odsc conda publish -s [THE_NAME_OF_YOUR_CUSTOM_CONDA] --force"
   ]
  },
  {
   "cell_type": "markdown",
   "id": "2b1bec88-b527-4039-8fab-17492f284368",
   "metadata": {},
   "source": [
    "**-------------------------------------------------------------------------------------------------------------------------------------------------------------------------------------------**"
   ]
  },
  {
   "cell_type": "markdown",
   "id": "864c1bbe-2646-4062-a6e9-a92ce725ecec",
   "metadata": {},
   "source": [
    "# **Step 2 - Build the Re-ranker model**"
   ]
  },
  {
   "cell_type": "markdown",
   "id": "2deb465a",
   "metadata": {},
   "source": [
    "## Step 2.1 - Define the FlagReranker model"
   ]
  },
  {
   "cell_type": "markdown",
   "id": "16fc8411-baa5-4f6d-821f-1bd290b9936d",
   "metadata": {
    "tags": []
   },
   "source": [
    "Run the below cell. This will define the FlagReranker model and in a later stage will pull the model artifact files in memory and build a pickle file"
   ]
  },
  {
   "cell_type": "code",
   "execution_count": null,
   "id": "ef7a3551",
   "metadata": {
    "tags": []
   },
   "outputs": [],
   "source": [
    "class Reranker:\n",
    "    def __init__(self, model_id):\n",
    "        self.model_id = model_id\n",
    "        self.reranker = FlagReranker(self.model_id, use_fp16=True)\n",
    "\n",
    "    def predict(self, x):\n",
    "        scores = self.reranker.compute_score(x)\n",
    "\n",
    "        return scores\n",
    "    \n",
    "model = Reranker(model_id=\"BAAI/bge-reranker-large\")"
   ]
  },
  {
   "cell_type": "markdown",
   "id": "1f693cad",
   "metadata": {},
   "source": [
    "## Step 2.2 - Build the Model Artifacts"
   ]
  },
  {
   "cell_type": "markdown",
   "id": "68edbdaf-c175-427c-9be4-ff8fcb36e9de",
   "metadata": {},
   "source": [
    "In the below cell, add your personal Bucket name and Namespace. The below refers to the full location of the published custom conda environment, which you can find in your object storage. In the example below, \"Tensorflow 2.8 for GPU Python 3.8\" was used. However, please change the full location to your personal custom conda environment."
   ]
  },
  {
   "cell_type": "code",
   "execution_count": null,
   "id": "dd90bd48-46d5-4c64-a5a8-d0c8ff5f9aee",
   "metadata": {},
   "outputs": [],
   "source": [
    "custom_conda = \"oci://[YOUR_BUCKET]@[YOUR_NAMESPACE]/conda_environments/gpu/TensorFlow 2.8 for GPU on Python 3.8/1.0/tensorflow28_p38_gpu_v1\""
   ]
  },
  {
   "cell_type": "markdown",
   "id": "17f59b5b-ffcf-4ebe-9673-702ddad9cee6",
   "metadata": {},
   "source": [
    "Run the below cell. This will build a new folder named \"reranker_dir, including a score.py, a runtime.yaml and the reranker model as pickle file"
   ]
  },
  {
   "cell_type": "code",
   "execution_count": null,
   "id": "4edbe9f4",
   "metadata": {
    "tags": []
   },
   "outputs": [],
   "source": [
    "## Define the model\n",
    "reranker_model = GenericModel(estimator=model, artifact_dir=\"./reranker_dir\")\n",
    "\n",
    "## Build artifact files\n",
    "reranker_model.prepare(\n",
    "    reload=False,\n",
    "    inference_conda_env=custom_conda,\n",
    "    inference_python_version=\"3.9\",\n",
    "    model_file_name=\"reranker.pkl\",\n",
    "    force_overwrite=True,\n",
    ")"
   ]
  },
  {
   "cell_type": "markdown",
   "id": "8dbf78fc",
   "metadata": {},
   "source": [
    "## Step 2.3 - Alter the score.py"
   ]
  },
  {
   "cell_type": "markdown",
   "id": "678a035a-fb45-4cde-a6c0-261bf74f6270",
   "metadata": {},
   "source": [
    "To customize the output of the model, we are manually changing the score.py, which loads and runs the model on the provided input and provides the output"
   ]
  },
  {
   "cell_type": "code",
   "execution_count": null,
   "id": "71d33592",
   "metadata": {
    "tags": []
   },
   "outputs": [],
   "source": [
    "%%writefile ./reranker_dir/score.py\n",
    "\n",
    "import json\n",
    "import os\n",
    "import cloudpickle\n",
    "import pandas as pd\n",
    "import numpy as np\n",
    "from functools import lru_cache\n",
    "\n",
    "\n",
    "def load_model():\n",
    "    class DummyModel:\n",
    "        def __init__(self):\n",
    "            pass\n",
    "    return DummyModel()\n",
    "\n",
    "\n",
    "def predict(data, model=load_model()):\n",
    "    \n",
    "    model_name = 'reranker.pkl'\n",
    "    #model_name = './reranker_dir/reranker.pkl'\n",
    "    \n",
    "    with open(model_name, \"rb\") as file:\n",
    "        model = cloudpickle.load(file)\n",
    "\n",
    "    payload = data\n",
    "    \n",
    "    #get the origial question\n",
    "    original_question = payload['full_input']['original_question']\n",
    "    \n",
    "        ##create payload as expected by rerank model\n",
    "\n",
    "    payload_list = []\n",
    "    \n",
    "\n",
    "    for rowx in payload['full_input']['result']:\n",
    "\n",
    "        text = rowx['payload']['text']\n",
    "\n",
    "        payload_list.append([original_question, text])\n",
    "\n",
    "    #apply list to rerank model\n",
    "    rerank_predictions = model.predict(payload_list)\n",
    "\n",
    "    loopx = 0\n",
    "\n",
    "    #create output list\n",
    "    output_list = []\n",
    "    for rowyy in rerank_predictions:\n",
    "\n",
    "        #get the text\n",
    "        output_text = payload['full_input']['result'][loopx]['payload']['text']\n",
    "\n",
    "        #add score\n",
    "        output_list.append([output_text, rowyy])\n",
    "\n",
    "        loopx+=1\n",
    "\n",
    "    ########################\n",
    "    #load as dataframe and sort on score\n",
    "    df = pd.DataFrame(output_list, columns=[\"text\",\"score\"])\n",
    "    df = df.sort_values('score', ascending=False)\n",
    "\n",
    "    df_to_json = df.to_json(orient = 'records')\n",
    "    \n",
    "    output = json.loads(df_to_json)\n",
    "    \n",
    "    return {'prediction':output}"
   ]
  },
  {
   "cell_type": "markdown",
   "id": "6ffad1c0-c782-403f-9125-3c7c24d8d09b",
   "metadata": {},
   "source": [
    "## Step 2.4 - Review the artifacts"
   ]
  },
  {
   "cell_type": "markdown",
   "id": "e404264e-34f6-4cea-90ac-355398983f21",
   "metadata": {},
   "source": [
    "Run the below cell. This reviews the artifact files and notifies you when there is something missing or wrong"
   ]
  },
  {
   "cell_type": "code",
   "execution_count": null,
   "id": "fbcf6d0c",
   "metadata": {
    "tags": []
   },
   "outputs": [],
   "source": [
    "reranker_model.introspect()"
   ]
  },
  {
   "cell_type": "markdown",
   "id": "f88b64ea-fd0e-4dd0-bfb5-0d4a9031a2c0",
   "metadata": {},
   "source": [
    "# **Step 3 - Store the model in the model catalog**"
   ]
  },
  {
   "cell_type": "markdown",
   "id": "e285deef-5c2c-4924-9e68-ff1644987540",
   "metadata": {},
   "source": [
    "In the below cell, please change the bucket name and namespace. When running the cell, this will store the full reranker_dir in the Model Catalog in OCI Data Science. However, the pickle file used is relatively large, so we are using the object storage to help in storing the model in the model catalog. When you run the cell, the model appears in the Model Catalog"
   ]
  },
  {
   "cell_type": "code",
   "execution_count": null,
   "id": "0c49da6f",
   "metadata": {
    "tags": []
   },
   "outputs": [],
   "source": [
    "# Saving the model artifact to the model catalog. \n",
    "catalog_entry = reranker_model.save(display_name='rerank_model_v1', description='rerank_model_v1', timeout=600, bucket_uri=\"oci://[YOUR_BUCKET]@[YOUR_NAMESPACE/\")\n",
    "catalog_entry.id"
   ]
  },
  {
   "cell_type": "markdown",
   "id": "ab5aebb1-2e51-46cf-9336-a0380b9e49cd",
   "metadata": {},
   "source": [
    "# **Step 4 - Deploy the model**\n",
    "\n",
    "Follow the described steps [here](https://docs.oracle.com/en-us/iaas/data-science/using/model-dep-create-def-net.htm#model-dep-create-def-net) to select and deploy the model in Model Deployment using the OCI Console\n"
   ]
  },
  {
   "cell_type": "markdown",
   "id": "01a00dbc-d20e-4e06-9532-7af43cefb6d8",
   "metadata": {},
   "source": [
    "# **Step 5 - Invoke the model**"
   ]
  },
  {
   "cell_type": "markdown",
   "id": "8edf3510-89c0-4d31-9820-084c477043c0",
   "metadata": {
    "tags": []
   },
   "source": [
    "## Step 5.1 - Create example payload"
   ]
  },
  {
   "cell_type": "markdown",
   "id": "351ddefb-2bf4-4548-9929-8d6c0e6720fe",
   "metadata": {},
   "source": [
    "The below is an example payload of the output of a vector embedding search. There is an \"original question\" and the top 5 embeddings (as text) returned from the vector database. The re-ranker model will use the original question and the \"text\" to re-rerank the results"
   ]
  },
  {
   "cell_type": "code",
   "execution_count": 15,
   "id": "a4325fd3-0c2e-4b94-b532-b269a22af5fd",
   "metadata": {
    "tags": []
   },
   "outputs": [],
   "source": [
    "payload = {'full_input': {'original_question': 'When do you go home?',\n",
    "  'result': [{'id': 5469,\n",
    "    'version': 1,\n",
    "    'score': 0.7420407,\n",
    "    'payload': {'creation_date': '2024-01-29Z',\n",
    "     'document_name': 'autonomous-database-self-repairing-5116047 (1).pdf',\n",
    "     'hyperlink_url': '',\n",
    "     'page_number': 3,\n",
    "     'text': '\\nTable of Contents\\nIntroduction\\n4\\nWhat is an Autonomous Database?\\n4',\n",
    "     'type': 'pdf'},\n",
    "    'vector': None},\n",
    "   {'id': 5483,\n",
    "    'version': 2,\n",
    "    'score': 0.7236079,\n",
    "    'payload': {'creation_date': '2024-01-29Z',\n",
    "     'document_name': 'autonomous-database-self-repairing-5116047 (1).pdf',\n",
    "     'hyperlink_url': '',\n",
    "     'page_number': 5,\n",
    "     'text': '\\nor eliminate operational disruption.\\nWhat is the Autonomous Database Cloud?\\nAUTONOMOUS\\nDATABASE\\nORACLE\\n-',\n",
    "     'type': 'pdf'},\n",
    "    'vector': None},\n",
    "   {'id': 5542,\n",
    "    'version': 5,\n",
    "    'score': 0.67869973,\n",
    "    'payload': {'creation_date': '2024-01-29Z',\n",
    "     'document_name': 'autonomous-database-self-repairing-5116047 (1).pdf',\n",
    "     'hyperlink_url': '',\n",
    "     'page_number': 12,\n",
    "     'text': '\\nNo databases that run on-premises or in cloud environments today are 100% autonomous - but that is\\nthe goal toward which the industry is headed. To further the evolution of cloud databases toward this\\ntrue utility model, Oracle introduced the Autonomous Database, running on Oracle Database (version\\n18c and later) in the Oracle Cloud. Autonomous Database minimizes or eliminates human labor using\\nself-driving, self-securing and self-repairing functionality. Two key areas that comprise the self-\\nrepairing capabilities of the Autonomous Database are the Oracle Maximum Availability Architecture',\n",
    "     'type': 'pdf'},\n",
    "    'vector': None},\n",
    "   {'id': 5496,\n",
    "    'version': 2,\n",
    "    'score': 0.67500746,\n",
    "    'payload': {'creation_date': '2024-01-29Z',\n",
    "     'document_name': 'autonomous-database-self-repairing-5116047 (1).pdf',\n",
    "     'hyperlink_url': '',\n",
    "     'page_number': 6,\n",
    "     'text': \"\\nbehind corporate firewalls to meet data sovereignty or control requirements will soon be able to run\\nthe Autonomous Database on-premises. Oracle Exadata Cloud at Customer, an Oracle Public Cloud\\noffering, can be deployed on-premises, and delivers all of the capabilities of Autonomous Database\\nfrom within the enterprise's data center.\\nThe Autonomous Database can be deployed in a hybrid cloud or all-cloud model; for example, when\\nmultiple databases are deployed for production and test environments or as primary and standby\",\n",
    "     'type': 'pdf'},\n",
    "    'vector': None},\n",
    "   {'id': 5476,\n",
    "    'version': 1,\n",
    "    'score': 0.6721611,\n",
    "    'payload': {'creation_date': '2024-01-29Z',\n",
    "     'document_name': 'autonomous-database-self-repairing-5116047 (1).pdf',\n",
    "     'hyperlink_url': '',\n",
    "     'page_number': 4,\n",
    "     'text': '\\nif you will. As a result, enterprises are unable to realize the full operational and financial benefits of the\\ncloud.\\nWHAT IS AN AUTONOMOUS DATABASE?\\nThere is understandably an element of confusion that arises when talking about automatic\" versus\\n\\'autonomous\" capabilities. A process for database backup, failover or resizing that can be\\naccomplished automatically is still not autonomous if a database administrator has to respond to an',\n",
    "     'type': 'pdf'},\n",
    "    'vector': None}],\n",
    "  'status': 'ok',\n",
    "  'time': 0.00130104}}"
   ]
  },
  {
   "cell_type": "markdown",
   "id": "9dac978b-ae1a-4550-ace5-de85b812360b",
   "metadata": {
    "tags": []
   },
   "source": [
    "## Step 5.2 - Invoke the Model Deployment HTTP endpoint"
   ]
  },
  {
   "cell_type": "markdown",
   "id": "d6e93058-18d2-4a11-a068-0b5397cecc01",
   "metadata": {},
   "source": [
    "In the below cell, add the Model Deployment's HTTP Endpoint. When you run the cell, the HTTP endpoint will be invoked using the example payload. The config file is used as authentication."
   ]
  },
  {
   "cell_type": "code",
   "execution_count": null,
   "id": "f813a812",
   "metadata": {
    "tags": []
   },
   "outputs": [],
   "source": [
    "import requests\n",
    "import oci\n",
    "from oci.signer import Signer\n",
    "import json\n",
    "\n",
    "your_http_endpoint = f\"\"\n",
    "\n",
    "\n",
    "config = oci.config.from_file(\"~/.oci/config\") # replace with the location of your oci config file\n",
    "auth = Signer(\n",
    "        tenancy=config['tenancy'],\n",
    "        user=config['user'],\n",
    "        fingerprint=config['fingerprint'],\n",
    "        private_key_file_location=config['key_file'],\n",
    "        pass_phrase=config['pass_phrase'])\n",
    "\n",
    "\n",
    "#POST request to the model\n",
    "response = requests.post(your_http_endpoint, json=payload, auth=auth)\n",
    "response"
   ]
  },
  {
   "cell_type": "code",
   "execution_count": null,
   "id": "13baca5e",
   "metadata": {},
   "outputs": [],
   "source": []
  },
  {
   "cell_type": "code",
   "execution_count": null,
   "id": "08d88651",
   "metadata": {},
   "outputs": [],
   "source": []
  }
 ],
 "metadata": {
  "kernelspec": {
   "display_name": "Python [conda env:tensorflow28_p38_gpu_v1]",
   "language": "python",
   "name": "conda-env-tensorflow28_p38_gpu_v1-py"
  },
  "language_info": {
   "codemirror_mode": {
    "name": "ipython",
    "version": 3
   },
   "file_extension": ".py",
   "mimetype": "text/x-python",
   "name": "python",
   "nbconvert_exporter": "python",
   "pygments_lexer": "ipython3",
   "version": "3.8.13"
  }
 },
 "nbformat": 4,
 "nbformat_minor": 5
}
